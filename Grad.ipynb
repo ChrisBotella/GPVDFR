{
 "cells": [
  {
   "cell_type": "code",
   "execution_count": 2,
   "metadata": {
    "collapsed": false
   },
   "outputs": [
    {
     "name": "stderr",
     "output_type": "stream",
     "text": [
      "/home/diallo/anaconda2/lib/python2.7/site-packages/matplotlib/font_manager.py:273: UserWarning: Matplotlib is building the font cache using fc-list. This may take a moment.\n",
      "  warnings.warn('Matplotlib is building the font cache using fc-list. This may take a moment.')\n"
     ]
    },
    {
     "data": {
      "text/plain": [
       "[<matplotlib.lines.Line2D at 0x7f9a823f7450>]"
      ]
     },
     "execution_count": 2,
     "metadata": {},
     "output_type": "execute_result"
    },
    {
     "data": {
      "image/png": "[encoded data removed]",
      "text/plain": [
       "<matplotlib.figure.Figure at 0x7f9aac982e10>"
      ]
     },
     "metadata": {},
     "output_type": "display_data"
    },
    {
     "data": {
      "image/png": "[encoded data removed]",
      "text/plain": [
       "<matplotlib.figure.Figure at 0x7f9a82496710>"
      ]
     },
     "metadata": {},
     "output_type": "display_data"
    }
   ],
   "source": [
    "from Classes import * \n",
    "from Simu import *\n",
    "from NLL import *\n",
    "import numpy as np\n",
    "import matplotlib.pyplot as plt\n",
    "import scipy as sp\n",
    "import sympy as sy\n",
    "from scipy import linalg\n",
    "import pylab as pl\n",
    "import math as ma\n",
    "import time \n",
    "%matplotlib inline\n",
    "b=Base(np.array([1,4])).val(np.array([1,2]))\n",
    "\n",
    "N=10\n",
    "D=5\n",
    "n_t_moy=10\n",
    "varu1=5\n",
    "varu2=2\n",
    "\n",
    "\n",
    "# Simulation des temps \n",
    "(T,L,M_nt)=temps(N,D,n_t_moy)\n",
    "(U,V1,V2)=X_Params(varu1,varu2,N,D)\n",
    "vec=np.reshape(M_nt,(N*D,1))\n",
    "\n",
    "fig1 = plt.figure().add_subplot(111)\n",
    "fig1.hist(vec,bins=20)\n",
    "\n",
    "\n",
    "# Exemple de signe vital simulé\n",
    "t=np.linspace(0,1,1000)\n",
    "X=X_fonc(t,U[0,0],V1[0,0,:],V2[0,0,:])\n",
    "\n",
    "fig2 = plt.figure().add_subplot(111)\n",
    "fig2.plot(t,X.val())\n",
    "\n",
    "#plt.savefig(\"Ftraj.png\")\n",
    "Xdata=X_obs(U,V1,V2,L)\n",
    "fig2.plot(L[0][0],Xdata[0][0],marker=\"d\",markersize=10,linestyle=\"none\")\n",
    "fig2.plot(T[0],Xdata[0][0][len(Xdata[0][0])-1],marker=\"s\",markersize=5,color=\"r\")\n",
    "#plt.savefig(\"Xobs.png\")"
   ]
  },
  {
   "cell_type": "code",
   "execution_count": 4,
   "metadata": {
    "collapsed": true
   },
   "outputs": [],
   "source": [
    "class NLL_nocens:\n",
    "    def __init__(self,Alpha,Beta,Sigma,k,moy,Psi,J=50):\n",
    "        self.N=len(Psi)\n",
    "        self.D=len(Psi[0])\n",
    "        self.Alpha=Alpha\n",
    "        self.Beta=Beta\n",
    "        self.k=k\n",
    "        self.moy=moy\n",
    "        self.Psi=Psi\n",
    "        self.J=J\n",
    "        self.Sigma=Sigma\n",
    "    def val(self,Z,t,T,X,Y):\n",
    "        I1=KBeta(t,T,self.k,self.Beta,self.J).val()\n",
    "        I2=kbb(T,self.k,self.Beta,self.J).val()\n",
    "        KBPsi=[ [ [] for j in range(self.D) ] for i in range(self.N)]\n",
    "        EY=np.zeros(self.N,float)\n",
    "        EYF=np.zeros((N,D),float)\n",
    "        VYF=np.zeros((N,D),float)\n",
    "        for i in range(self.N):\n",
    "            for j in range(self.D):\n",
    "                m=len(X[i][j])\n",
    "                KBPsi[i][j]=I1[i][j].dot(Psi[i][j])\n",
    "                EYF[i,j]=KBPsi[i][j].dot( X[i][j]- np.ones(m,float)*self.moy[i,j] )\n",
    "                VYF[i,j]=KBPsi[i][j].dot(I1[i][j])\n",
    "            Un=np.ones(self.J+1,float)\n",
    "            Un[0]=0.5\n",
    "            Un[self.J]=0.5\n",
    "            # On calcule l'espérance de Y sachant X avec l'espérance de Y et le terme de conditionnement gaussien\n",
    "            EY[i]= Z.dot(Alpha) + ( np.sum( Un.dot(Beta[i,:]) * self.moy[i,:] ) /self.J ) + np.sum( EYF[i,:] ) / T[i]\n",
    "            # On calcule la variance de Y sachant X avec le terme de variance issu des VFT X^i_j et de l'erreur résiduelle \n",
    "            VY[i]= np.sum( np.asarray(I2[i]) - VYF[i,:] ) / (T[i]**2) + Sigma**2 \n",
    "        # On peut alors calculer la vraisemblance\n",
    "        #NLL = np.sum( (Y-EY)**2/VY + np.log(VY) )\n",
    "        return (EY,VY);"
   ]
  },
  {
   "cell_type": "code",
   "execution_count": 12,
   "metadata": {
    "collapsed": false
   },
   "outputs": [
    {
     "name": "stdout",
     "output_type": "stream",
     "text": [
      "⎡ 1    t     s     s⋅t ⎤\n",
      "⎢                      ⎥\n",
      "⎢       2            2 ⎥\n",
      "⎢ t    t    s⋅t   s⋅t  ⎥\n",
      "⎢                      ⎥\n",
      "⎢             2    2   ⎥\n",
      "⎢ s   s⋅t    s    s ⋅t ⎥\n",
      "⎢                      ⎥\n",
      "⎢        2   2     2  2⎥\n",
      "⎣s⋅t  s⋅t   s ⋅t  s ⋅t ⎦\n",
      "⎡0  0   0    0  ⎤\n",
      "⎢               ⎥\n",
      "⎢0  0   0    0  ⎥\n",
      "⎢               ⎥\n",
      "⎢0  0   2   2⋅t ⎥\n",
      "⎢               ⎥\n",
      "⎢              2⎥\n",
      "⎣0  0  2⋅t  2⋅t ⎦\n",
      "⎡0   0    0     1  ⎤\n",
      "⎢                  ⎥\n",
      "⎢0   0    1    2⋅t ⎥\n",
      "⎢                  ⎥\n",
      "⎢0   1    0    2⋅s ⎥\n",
      "⎢                  ⎥\n",
      "⎣1  2⋅t  2⋅s  4⋅s⋅t⎦\n",
      "⎡0   0   0   0  ⎤\n",
      "⎢               ⎥\n",
      "⎢0   2   0  2⋅s ⎥\n",
      "⎢               ⎥\n",
      "⎢0   0   0   0  ⎥\n",
      "⎢               ⎥\n",
      "⎢              2⎥\n",
      "⎣0  2⋅s  0  2⋅s ⎦\n",
      "[b₀ + b₁⋅t + b₂⋅s + b₃⋅s⋅t]\n",
      "[(b0, 1.0), (b1, 1.0), (b2, 1.0), (b3, 1.0), (T, 1.0)]\n",
      "1.0*s*t + 1.0*s + 1.0*t + 1.0\n"
     ]
    },
    {
     "data": {
      "text/plain": [
       "2.0*s + 2.0"
      ]
     },
     "execution_count": 12,
     "metadata": {},
     "output_type": "execute_result"
    }
   ],
   "source": [
    "Kbeta=2\n",
    "\n",
    "s=sy.Symbol('s')\n",
    "t=sy.Symbol('t')\n",
    "syPhi=sy.ones(Kbeta**2,1)\n",
    "syb=sy.ones(1,Kbeta*Kbeta)\n",
    "k=0\n",
    "for i in range(Kbeta):\n",
    "    for j in range(Kbeta):\n",
    "        syPhi[k]=(s**i)*(t**j) \n",
    "        syb[k]=sy.Symbol('b'+str(k))\n",
    "        k+=1\n",
    "syPhi_mat=syPhi*(syPhi.T)\n",
    "sy.pprint(syPhi_mat)\n",
    "\n",
    "syPhi_mat_dsds=syPhi_mat.diff(s,s)\n",
    "sy.pprint(syPhi_mat_dsds)\n",
    "\n",
    "syPhi_mat_dsdt=syPhi_mat.diff(s,t)\n",
    "sy.pprint(syPhi_mat_dsdt)\n",
    "\n",
    "syPhi_mat_dtdt=syPhi_mat.diff(t,t)\n",
    "sy.pprint(syPhi_mat_dtdt)\n",
    "\n",
    "\n",
    "syBeta=syb*syPhi\n",
    "sy.pprint(syBeta)\n",
    "# Disons que tous les coefs valent 1\n",
    "coefs=np.ones(Kbeta**2,float)\n",
    "replacements=[ (sy.sympify('b'+str(i)),coefs[i]) for i in range(Kbeta**2)]\n",
    "replacements.append((T,1.))\n",
    "print replacements\n",
    "syBeta_subs=syBeta.subs(replacements)[0]\n",
    "print syBeta_subs\n",
    "betaf=sy.lambdify(t,syBeta_subs,'numpy')\n",
    "betaf(1)"
   ]
  },
  {
   "cell_type": "markdown",
   "metadata": {},
   "source": [
    "# Intro Sympy"
   ]
  },
  {
   "cell_type": "code",
   "execution_count": null,
   "metadata": {
    "collapsed": true
   },
   "outputs": [],
   "source": [
    "from sympy import *\n",
    "import numpy as np\n",
    "\n",
    "N=3\n",
    "print \"On peut définir une fonction d'un nombre indéterminé de variable par itération\"\n",
    "L=[ [] for i in range(N)]\n",
    "f=0\n",
    "for i in range(N):\n",
    "    L[i]=Symbol('x'+ str(i+1) )\n",
    "    f=f+(i+1)*L[i]\n",
    "print f\n",
    "print \"Puis la différentier relativement à chacune\"\n",
    "print f.diff(L[N-1])\n",
    "print \"Pour obtenir le gradient, on utilisera plutôt la \"\n",
    "\n",
    "A=Matrix([[f,1],[0,1]])\n",
    "A.diff(L[N-1])\n",
    "print \"On peut aussi définir des matrices bloc diagonale de taille indéterminée par itération\"\n",
    "liste=[[] for i in range(N)]\n",
    "for i in range(N):\n",
    "    liste[i]=A\n",
    "B=Matrix()\n",
    "for i in range(N):\n",
    "    B=diag(B,A)\n",
    "print B\n",
    "A=B*ones(2*N,1)\n",
    "print A"
   ]
  }
 ],
 "metadata": {
  "kernelspec": {
   "display_name": "Python 2",
   "language": "python",
   "name": "python2"
  },
  "language_info": {
   "codemirror_mode": {
    "name": "ipython",
    "version": 2
   },
   "file_extension": ".py",
   "mimetype": "text/x-python",
   "name": "python",
   "nbconvert_exporter": "python",
   "pygments_lexer": "ipython2",
   "version": "2.7.11"
  }
 },
 "nbformat": 4,
 "nbformat_minor": 0
}
