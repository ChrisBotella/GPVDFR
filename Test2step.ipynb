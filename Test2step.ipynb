{
 "cells": [
  {
   "cell_type": "markdown",
   "metadata": {},
   "source": [
    "# 1) Simulation de données\n",
    "### Simulation des observations de variables fonctionnelles"
   ]
  },
  {
   "cell_type": "code",
   "execution_count": 9,
   "metadata": {
    "collapsed": false,
    "scrolled": true
   },
   "outputs": [
    {
     "data": {
      "text/plain": [
       "[<matplotlib.lines.Line2D at 0x7f2a9ce8df90>]"
      ]
     },
     "execution_count": 9,
     "metadata": {},
     "output_type": "execute_result"
    },
    {
     "data": {
      "image/png": "[encoded data removed]",
      "text/plain": [
       "<matplotlib.figure.Figure at 0x7f2a9ceb9f90>"
      ]
     },
     "metadata": {},
     "output_type": "display_data"
    },
    {
     "data": {
      "image/png": "[encoded data removed]",
      "text/plain": [
       "<matplotlib.figure.Figure at 0x7f2a9c8233d0>"
      ]
     },
     "metadata": {},
     "output_type": "display_data"
    },
    {
     "data": {
      "image/png": "[encoded data removed]",
      "text/plain": [
       "<matplotlib.figure.Figure at 0x7f2a9c561e10>"
      ]
     },
     "metadata": {},
     "output_type": "display_data"
    }
   ],
   "source": [
    "from Classes import * \n",
    "from Simu import *\n",
    "from NLL import *\n",
    "import numpy as np\n",
    "import matplotlib.pyplot as plt\n",
    "import scipy as sc\n",
    "from scipy import integrate\n",
    "import sympy as sy\n",
    "from scipy import linalg\n",
    "import pylab as pl\n",
    "import math as ma\n",
    "import time \n",
    "%matplotlib inline\n",
    "\n",
    "\n",
    "\n",
    "N=1000\n",
    "D=1\n",
    "n_t_moy=10\n",
    "varu=5\n",
    "Gamma=0.1\n",
    "# Simulation des temps \n",
    "(T,L,M_nt)=temps(N,D,n_t_moy)\n",
    "(U,V1,V2)=X_Params(varu,N,D)\n",
    "vec=np.reshape(M_nt,(N*D,1))\n",
    "\n",
    "fig1 = plt.figure().add_subplot(111)\n",
    "fig1.hist(vec,bins=20)\n",
    "fig2 = plt.figure().add_subplot(111)\n",
    "fig2.hist(T,bins=20)\n",
    "\n",
    "\n",
    "# Exemple de signe vital simulé\n",
    "t=np.linspace(0,1,1000)\n",
    "X=X_fonc(t,U[0,0],V1[0,0,:],V2[0,0,:])\n",
    "\n",
    "fig2 = plt.figure().add_subplot(111)\n",
    "fig2.plot(t,X.val())\n",
    "\n",
    "\n",
    "#plt.savefig(\"Ftraj.png\")\n",
    "Xdata=X_obs(U,V1,V2,L,std=Gamma)\n",
    "fig2.plot(L[0][0],Xdata[0][0],marker=\"d\",markersize=10,linestyle=\"none\")\n",
    "fig2.plot(T[0],Xdata[0][0][len(Xdata[0][0])-1],marker=\"s\",markersize=5,color=\"r\")\n",
    "#plt.savefig(\"Xobs.png\")"
   ]
  },
  {
   "cell_type": "markdown",
   "metadata": {},
   "source": [
    "### Simulation des labels $Y$, $C$ et $Y^C$"
   ]
  },
  {
   "cell_type": "code",
   "execution_count": 25,
   "metadata": {
    "collapsed": false
   },
   "outputs": [
    {
     "name": "stdout",
     "output_type": "stream",
     "text": [
      "Moyenne et écart type des labels non censurés Y\n",
      "1.3250757\n",
      "5.5661890521\n",
      "Pourcentage de données non censurées\n",
      "80.0\n"
     ]
    },
    {
     "data": {
      "text/plain": [
       "(array([ 2.,  0.,  0.,  1.,  0.,  1.,  1.,  2.,  1.,  1.,  0.,  0.,  0.,\n",
       "         0.,  0.,  0.,  0.,  0.,  0.,  1.]),\n",
       " array([ -5.95514636,  -4.92041384,  -3.88568132,  -2.8509488 ,\n",
       "         -1.81621628,  -0.78148375,   0.25324877,   1.28798129,\n",
       "          2.32271381,   3.35744633,   4.39217885,   5.42691137,\n",
       "          6.46164389,   7.49637641,   8.53110893,   9.56584145,\n",
       "         10.60057397,  11.63530649,  12.67003902,  13.70477154,  14.73950406]),\n",
       " <a list of 20 Patch objects>)"
      ]
     },
     "execution_count": 25,
     "metadata": {},
     "output_type": "execute_result"
    },
    {
     "data": {
      "image/png": "[encoded data removed]",
      "text/plain": [
       "<matplotlib.figure.Figure at 0xb359390>"
      ]
     },
     "metadata": {},
     "output_type": "display_data"
    }
   ],
   "source": [
    "%matplotlib inline\n",
    "\n",
    "Sigma=0.\n",
    "\n",
    "true_beta=beta(num=1)\n",
    "\n",
    "# Nombre de variables scalaires\n",
    "p=1\n",
    "# Génération de Alpha et Z\n",
    "Alpha=np.zeros(p,float)\n",
    "Z=np.zeros((N,p),float)\n",
    "(Y,C,Yc,Delta)=simu_YC(Alpha,true_beta,Z,U,V1,V2,T,Sigma)\n",
    "print(\"Moyenne et écart type des labels non censurés Y\")\n",
    "print( np.mean(Y))\n",
    "print(np.std(Y))\n",
    "\n",
    "print( \"Pourcentage de données non censurées\")\n",
    "print(100.*np.sum(Delta)/N)\n",
    "\n",
    "fig1 = plt.figure().add_subplot(111)\n",
    "fig1.hist(Y,bins=20)\n"
   ]
  },
  {
   "cell_type": "markdown",
   "metadata": {},
   "source": [
    "# 1) Régression GP sur Python pour l'inférence des variables GP\n",
    "\n",
    "Nous allons commencer par l'utilisation la plus basique du package pyGPs qui est similaire à l'application que nous avons faîte des Gaussians Process sur R, à savoir la régression sur processus gaussien avec l'hypothèse d'un noyau exponentiel quadratique et d'une moyenne nulle. Cette utilisation nous est suffisante pour obtenir les estimateurs des paramètres de covariance (la variance et la portée de la fonction de covariance, ainsi que l'erreur résiduelle du modèle) que nous utiliserons dans un deuxième temps comme variables GP de la régression sur les logarithmes des temps de survie. \n",
    "\n",
    "## A) Un premier exemple tiré du package\n",
    "\n",
    "On utilise le modèle de Régression sur Processus Gaussien :\n",
    "\n",
    "$y_i = f(t_i) + \\epsilon_i$ où les $\\epsilon_i$ sont des erreurs gaussiennes $\\mathcal{N}(0,sig)$ iid.\n",
    "\n",
    "et $f\\sim \\mathcal{GP}(m,k)$.\n",
    "\n",
    "Ce modèle de régression peut être utilisé dans le package pyGPs en utilisant la classe pyGPs.GPR(). Les options par défauts sont m=0, k=noyau exponentiel quadratique, une vraisemblance gaussienne (qui contient par défaut le bruit gaussien E_i) et une méthode d'optimisation par minimisation de la negative log vraisemblance relative aux hyperparamètres de m, k et sig.  "
   ]
  },
  {
   "cell_type": "code",
   "execution_count": 29,
   "metadata": {
    "collapsed": false
   },
   "outputs": [
    {
     "data": {
      "image/png": "[encoded data removed]",
      "text/plain": [
       "<matplotlib.figure.Figure at 0xcc7c978>"
      ]
     },
     "metadata": {},
     "output_type": "display_data"
    },
    {
     "name": "stdout",
     "output_type": "stream",
     "text": [
      "HYPERPARAMETRES AJUSTES\n",
      "Moyenne empirique\n",
      "2.02263901801\n",
      "Moyenne estimée GP\n",
      "5.0\n",
      "Hyperparamètres de la fonction de covariance estimés\n",
      "[ 1.          1.          2.71828183  2.71828183  1.        ]\n",
      "Ecart type de l erreur gaussienne\n",
      "0.100000509301\n"
     ]
    }
   ],
   "source": [
    "import pyGPs\n",
    "\n",
    "# Données choisies pour l'exemple\n",
    "idv=1\n",
    "par=0\n",
    "\n",
    "x=np.asarray(L[idv][par])\n",
    "y=np.asarray(Xdata[idv][par])\n",
    "z=np.linspace(0,T[idv],50)\n",
    "\n",
    "moy=np.mean(y)\n",
    "\n",
    "model = pyGPs.GPR()  # GP regression\n",
    "# Spécification du modèle (Celles ci sont facultatives car elles correspondent aux paramètres par défaut de pyGPs.GPR)\n",
    "# On définit la forme et les paramètres initiaux de la fonction de covariance du prior GP \n",
    "k1=pyGPs.cov.RBF(log_ell=0.0, log_sigma=0.0) \n",
    "k2=pyGPs.cov.Periodic(log_ell=0., log_p=0., log_sigma=0.)\n",
    "k=pyGPs.cov.SumOfKernel(k1,k2)\n",
    "# Evaluation d'un scalaire par la fonction\n",
    "# Evaluation d'un array\n",
    "m=pyGPs.mean.Const() # Fonction moyenne du GP (Ici constante nulle)\n",
    "model.setPrior(mean=m,kernel=k) \n",
    "model.setNoise(log_sigma=-2.30258)# On peut aussi donner une valeur initiale pour la variance de l'erreur (0.1 ici)\n",
    "\n",
    "# Inférence \n",
    "model.getPosterior(x, y) # fit default model (mean zero & rbf kernel) with data\n",
    "#model.optimize(x, y)     # optimize hyperparamters (default optimizer: single run minimize of gaussian likelihood)\n",
    "model.predict(z)         # predict test cases\n",
    "model.plot()             # and plot result\n",
    "\n",
    "# Extraction des hyperparamètres optimisés\n",
    "print('HYPERPARAMETRES AJUSTES')\n",
    "print('Moyenne empirique')\n",
    "print(moy)\n",
    "print('Moyenne estimée GP')\n",
    "print(model.meanfunc.hyp[0])\n",
    "print('Hyperparamètres de la fonction de covariance estimés')\n",
    "print(np.exp(model.covfunc.hyp))\n",
    "print('Ecart type de l erreur gaussienne')\n",
    "print(np.exp(model.likfunc.hyp)[0])\n",
    "# Voir la page détaillant les entrées des fonctions pour plus de détails sur les hyperparamètres avec d'autres modèles\n",
    "# http://www-ai.cs.uni-dortmund.de/weblab/static/api_docs/pyGPs/Default.html\n"
   ]
  },
  {
   "cell_type": "markdown",
   "metadata": {},
   "source": [
    "## B) Estimation des paramètres GP sur les données simulées "
   ]
  },
  {
   "cell_type": "code",
   "execution_count": 63,
   "metadata": {
    "collapsed": false
   },
   "outputs": [
    {
     "name": "stdout",
     "output_type": "stream",
     "text": [
      "('temps \\xc3\\xa9coul\\xc3\\xa9 pour ajuster ', 10, ' courbes avec en moyenne ', 9.5, ' points :')\n",
      "1.06591956675\n"
     ]
    }
   ],
   "source": [
    "model = pyGPs.GPR()\n",
    "k1=pyGPs.cov.RBF(log_ell=0.0, log_sigma=0.0) \n",
    "k2=pyGPs.cov.Periodic(log_ell=0., log_p=0., log_sigma=0.)\n",
    "k=pyGPs.cov.SumOfKernel(k1,k2)\n",
    "m=pyGPs.mean.Const() \n",
    "model.setPrior(mean=m,kernel=k) \n",
    "model.setNoise(log_sigma=-2.30258)\n",
    "\n",
    "par_est=np.zeros((N,D,len(model.covfunc.hyp)+1),float)\n",
    "moy_est=np.zeros((N,D),float)\n",
    "\n",
    "tps1 = time.clock()\n",
    "for i in range(N):\n",
    "    for j in range(D):\n",
    "        # On effectue la régression sur processus gaussien pour chaque jeu de données et on stocke les paramètres estimés\n",
    "        y=np.asarray(Xdata[i][j])\n",
    "        x=np.asarray(L[i][j])\n",
    "        model.optimize(x, y)\n",
    "        moy_est[i,j]=model.meanfunc.hyp[0]\n",
    "        par_est[i,j,:]=np.concatenate(  (np.array(np.exp(model.covfunc.hyp)), np.array(np.exp(model.likfunc.hyp))), axis=0 )\n",
    "tps2 = time.clock()\n",
    "\n",
    "nobs_moy=np.mean(M_nt)\n",
    "print(\"temps écoulé pour ajuster \", N*D ,\" courbes avec en moyenne \" , nobs_moy, \" points :\")\n",
    "print(tps2 - tps1)"
   ]
  },
  {
   "cell_type": "markdown",
   "metadata": {},
   "source": [
    "## C) Calcul de la vraisemblance de Y conditionnellement à X et aux paramètres estimés\n",
    "\n",
    "Suite à une simulation de différentes séries temporelles, nous avons ajusté des paramètres associées à chacune d'entre elle selon un modèle de Régression sur Processus Gaussien. A présent, nous simulons les labels $Y_i$ selon le modèle VDFR en utilisant la trajectoire réelle des variables fonctionnelles. Puis, nous tentons d'évaluer la vraisemblance des labels $Y_i$ conditionellement aux $X^i_j$ et aux paramètres $\\gamma^i_j,\\theta^i_j,\\eta^i_j$ appris avec la modélisation des variables fonctionnelles par des processus gaussien."
   ]
  },
  {
   "cell_type": "code",
   "execution_count": 64,
   "metadata": {
    "collapsed": false,
    "scrolled": true
   },
   "outputs": [
    {
     "name": "stdout",
     "output_type": "stream",
     "text": [
      "Exemple : Premier noyau\n",
      "                                                     2                        \n",
      "                                              2   sin (0.776773173518751⋅s - 0\n",
      "                   - 0.385090888173141⋅(s - t)  - ────────────────────────────\n",
      "                                                                         2    \n",
      "0.012625580511706⋅ℯ                                                           \n",
      "\n",
      "                                                                   \n",
      ".776773173518751⋅t)                                                \n",
      "───────────────────                                               2\n",
      "                                        -0.272426349839775⋅(s - t) \n",
      "                    + 0.85746592419675⋅ℯ                           \n"
     ]
    }
   ],
   "source": [
    "\n",
    "# Calcul des matrices de covariances et inverses Psi pour chaque courbe grâce aux paramètres estimés\n",
    "N=len(L)\n",
    "D=len(L[0])\n",
    "n_par=len(par_est[0,0,:])-1\n",
    "Psi=[[ [] for j in range(D)] for i in range(N)]\n",
    "syk=[[ [] for j in range(D)] for i in range(N)]\n",
    "k_foncs=[[ [] for j in range(D)] for i in range(N)]\n",
    "\n",
    "t=sy.Symbol('t')\n",
    "s=sy.Symbol('s')\n",
    "for i in range(N):\n",
    "    for j in range(D):\n",
    "        m_ij=len(L[i][j])\n",
    "        par=par_est[i,j,:]\n",
    "        # On reconstruit le noyau k_ij (en mode perso et en sympy) à partir des paramètres estimés précédemment\n",
    "        kPerio= sy_Periodic(symb=(s,t),el= par[3],per=par[4],sig=par[5]) \n",
    "        kRBF= sy_RBF(symb=(s,t), el=par[1],sig=par[2])\n",
    "        syk[i][j]= kPerio + kRBF\n",
    "        k_foncs[i][j]= sy.lambdify((t,s),syk[i][j],'numpy')\n",
    "        K=  cov(k_foncs[i][j] , L[i][j] )\n",
    "        Psi[i][j]=linalg.inv(K+par[0]*np.eye(m_ij))\n",
    "print('Exemple : Premier noyau')\n",
    "sy.pprint(syk[0][0])\n"
   ]
  },
  {
   "cell_type": "markdown",
   "metadata": {},
   "source": [
    "# 3) Test du critère $\\mathcal{L}(Y|X,\\mathcal{P})$ et Optimisation\n",
    "## A) sur un cas de régression linéaire simple"
   ]
  },
  {
   "cell_type": "code",
   "execution_count": 98,
   "metadata": {
    "collapsed": true
   },
   "outputs": [
    {
     "name": "stdout",
     "output_type": "stream",
     "text": [
      "Y\n",
      "[ 100.52729458  109.39008574   97.07736331   98.35783495  105.70375599\n",
      "  102.58784884  101.02343471   95.38905217  103.20171238  100.81457579]\n",
      "(2010, 9)\n",
      "102986.734504\n",
      "[-2028.14591694     0.             0.             0.             0.             0.\n",
      "     0.             0.             0.             0.        ]\n",
      "vraisemblance de la vrai moyenne\n"
     ]
    },
    {
     "ename": "NameError",
     "evalue": "name 'Alphaf' is not defined",
     "output_type": "error",
     "traceback": [
      "\u001b[1;31m---------------------------------------------------------------------------\u001b[0m",
      "\u001b[1;31mNameError\u001b[0m                                 Traceback (most recent call last)",
      "\u001b[1;32m<ipython-input-98-edaf121517f6>\u001b[0m in \u001b[0;36m<module>\u001b[1;34m()\u001b[0m\n\u001b[0;32m     34\u001b[0m \u001b[1;32mprint\u001b[0m\u001b[1;33m(\u001b[0m\u001b[1;34m'vraisemblance de la vrai moyenne'\u001b[0m\u001b[1;33m)\u001b[0m\u001b[1;33m\u001b[0m\u001b[0m\n\u001b[0;32m     35\u001b[0m \u001b[1;33m\u001b[0m\u001b[0m\n\u001b[1;32m---> 36\u001b[1;33m \u001b[0mPo\u001b[0m\u001b[1;33m=\u001b[0m\u001b[0mnp\u001b[0m\u001b[1;33m.\u001b[0m\u001b[0mconcatenate\u001b[0m\u001b[1;33m(\u001b[0m \u001b[1;33m(\u001b[0m \u001b[0mAlphaf\u001b[0m\u001b[1;33m.\u001b[0m\u001b[0mreshape\u001b[0m\u001b[1;33m(\u001b[0m\u001b[1;33m-\u001b[0m\u001b[1;36m1\u001b[0m\u001b[1;33m)\u001b[0m\u001b[1;33m,\u001b[0m \u001b[1;33m(\u001b[0m\u001b[0mb\u001b[0m\u001b[1;33m.\u001b[0m\u001b[0mT\u001b[0m\u001b[1;33m)\u001b[0m\u001b[1;33m.\u001b[0m\u001b[0mreshape\u001b[0m\u001b[1;33m(\u001b[0m\u001b[1;33m-\u001b[0m\u001b[1;36m1\u001b[0m\u001b[1;33m)\u001b[0m\u001b[1;33m)\u001b[0m \u001b[1;33m)\u001b[0m\u001b[1;33m\u001b[0m\u001b[0m\n\u001b[0m\u001b[0;32m     37\u001b[0m \u001b[1;32mprint\u001b[0m\u001b[1;33m(\u001b[0m\u001b[0mL_YlX_noC\u001b[0m\u001b[1;33m(\u001b[0m\u001b[0mPo\u001b[0m\u001b[1;33m,\u001b[0m\u001b[0mZ\u001b[0m\u001b[1;33m,\u001b[0m\u001b[0mL\u001b[0m\u001b[1;33m,\u001b[0m\u001b[0mT\u001b[0m\u001b[1;33m,\u001b[0m\u001b[0mXdata\u001b[0m\u001b[1;33m,\u001b[0m\u001b[0mY\u001b[0m\u001b[1;33m,\u001b[0m\u001b[0mPhi_mat\u001b[0m\u001b[1;33m,\u001b[0m\u001b[0mk\u001b[0m\u001b[1;33m,\u001b[0m\u001b[0mPsi\u001b[0m\u001b[1;33m,\u001b[0m\u001b[0mmoy_est\u001b[0m\u001b[1;33m)\u001b[0m\u001b[1;33m[\u001b[0m\u001b[1;36m0\u001b[0m\u001b[1;33m]\u001b[0m\u001b[1;33m)\u001b[0m\u001b[1;33m\u001b[0m\u001b[0m\n\u001b[0;32m     38\u001b[0m \u001b[1;32mprint\u001b[0m\u001b[1;33m(\u001b[0m\u001b[0mL_YlX_noC\u001b[0m\u001b[1;33m(\u001b[0m\u001b[0mPo\u001b[0m\u001b[1;33m,\u001b[0m\u001b[0mZ\u001b[0m\u001b[1;33m,\u001b[0m\u001b[0mL\u001b[0m\u001b[1;33m,\u001b[0m\u001b[0mT\u001b[0m\u001b[1;33m,\u001b[0m\u001b[0mXdata\u001b[0m\u001b[1;33m,\u001b[0m\u001b[0mY\u001b[0m\u001b[1;33m,\u001b[0m\u001b[0mPhi_mat\u001b[0m\u001b[1;33m,\u001b[0m\u001b[0mk\u001b[0m\u001b[1;33m,\u001b[0m\u001b[0mPsi\u001b[0m\u001b[1;33m,\u001b[0m\u001b[0mmoy_est\u001b[0m\u001b[1;33m)\u001b[0m\u001b[1;33m[\u001b[0m\u001b[1;36m1\u001b[0m\u001b[1;33m]\u001b[0m\u001b[1;33m)\u001b[0m\u001b[1;33m\u001b[0m\u001b[0m\n",
      "\u001b[1;31mNameError\u001b[0m: name 'Alphaf' is not defined"
     ]
    }
   ],
   "source": [
    "\n",
    "# On annule les observations de variables fonctionnelles ainsi que les moyennes estimées de manière\n",
    "# à annuler les intégrales dans la vraisemblance et le gradient.\n",
    "for i in range(N):\n",
    "    for j in range(D):\n",
    "        Xdata[i][j]=np.zeros(len(L[i][j]))\n",
    "        moy_est[i,j]=0.\n",
    "# On génère des labels Y autour d'une moyenne fixée\n",
    "Y=np.random.normal(100.,5.,N)\n",
    "print('Y')\n",
    "print(Y)\n",
    "Kbeta=3\n",
    "\n",
    "J=200\n",
    "\n",
    "p=1\n",
    "\n",
    "Z=1.*np.ones((N,p),float)\n",
    "#np.random.normal(0.,10.,N*p).reshape((N,p))\n",
    "\n",
    "# Phi_mat\n",
    "Phi= Base([Kbeta,Kbeta])\n",
    "Phi_mat= Comp_Phi(Phi,T,J)\n",
    "print(Phi_mat.shape)\n",
    "# Init de b\n",
    "b=np.zeros((Kbeta**2,D),float)\n",
    "# Init de Alpha\n",
    "Alpha=np.zeros(p,float)\n",
    "\n",
    "Po=np.concatenate( ( Alpha.reshape(-1), (b.T).reshape(-1)) )\n",
    "print(L_YlX_noC(Po,Z,L,T,Xdata,Y,Phi_mat,k,Psi,moy_est)[0])\n",
    "print(L_YlX_noC(Po,Z,L,T,Xdata,Y,Phi_mat,k,Psi,moy_est)[1])\n",
    "\n",
    "print('vraisemblance de la vrai moyenne')\n",
    "\n",
    "Po=np.concatenate( ( Alphaf.reshape(-1), (b.T).reshape(-1)) )\n",
    "print(L_YlX_noC(Po,Z,L,T,Xdata,Y,Phi_mat,k,Psi,moy_est)[0])\n",
    "print(L_YlX_noC(Po,Z,L,T,Xdata,Y,Phi_mat,k,Psi,moy_est)[1])\n",
    "\n"
   ]
  },
  {
   "cell_type": "code",
   "execution_count": 22,
   "metadata": {
    "collapsed": true
   },
   "outputs": [
    {
     "name": "stdout",
     "output_type": "stream",
     "text": [
      "Norme b 1.0 Vrais 201420.4786\n",
      "Norme b 14467.6272035 Vrais 8532.11588627\n",
      "Norme b 9259.64141027 Vrais 816.581377718\n",
      "Norme b 10208.6521548 Vrais 507.959997376\n",
      "Norme b 10015.1465493 Vrais 495.615142162\n",
      "Norme b 10053.6995322 Vrais 495.121347954\n",
      "Norme b 10045.9830101 Vrais 495.101596185\n",
      "Norme b 10047.5260775 Vrais 495.100806115\n",
      "Norme b 10047.2174545 Vrais 495.100774512\n",
      "Norme b 10047.2791787 Vrais 495.100773248\n",
      "Paramètres finaux\n",
      "[ 100.23106721    1.            0.            0.            0.            0.\n",
      "    0.            0.            0.            0.            0.        ]\n",
      "Vrais finale\n",
      "495.100773248\n",
      "Grad final\n",
      "[  2.05273247e-03  -4.75100773e+02   0.00000000e+00   0.00000000e+00\n",
      "   0.00000000e+00   0.00000000e+00   0.00000000e+00   0.00000000e+00\n",
      "   0.00000000e+00   0.00000000e+00   0.00000000e+00]\n"
     ]
    }
   ],
   "source": [
    "gamme=np.array([.001,.003,.01,0.03,0.1,0.3,1.])\n",
    "l=len(gamme)\n",
    "b=np.zeros(D*Kbeta**2,float)\n",
    "Pn=np.concatenate( ( Alpha.reshape(-1),  b ) )\n",
    "Pstock=np.concatenate( ( Alpha.reshape(-1),  b ) )\n",
    "stock=np.zeros(l,float)\n",
    "\n",
    "for i in range(10):\n",
    "    V=L_YlX_noC(Pn,Z,L,T,Xdata,Y,Phi_mat,k,Psi,moy_est)\n",
    "    print(\"Norme b \"+str(Pn.dot(Pn))+\" Vrais \"+ str(V[0]))\n",
    "    for j in range(l):\n",
    "        Pstock[0:p]=Pn[0:p]-gamme[j]*V[1][0:p]\n",
    "        stock[j]=L_YlX_noC(Pstock,Z,L,T,Xdata,Y,Phi_mat,k,Psi,moy_est)[0]        \n",
    "    which_min=[ x for x in range(l) if stock[x]==np.min(stock) ][0]\n",
    "    Pn[0:p]=Pn[0:p]-gamme[which_min]*V[1][0:p]\n",
    "\n",
    "print('Paramètres finaux')\n",
    "print(Pn)\n",
    "print('Vrais finale')\n",
    "print(V[0])\n",
    "print('Grad final')\n",
    "print(V[1])\n"
   ]
  },
  {
   "cell_type": "markdown",
   "metadata": {},
   "source": [
    "## B) avec une variable fonctionnelle"
   ]
  },
  {
   "cell_type": "code",
   "execution_count": 50,
   "metadata": {
    "collapsed": false
   },
   "outputs": [],
   "source": [
    "Kbeta=4\n",
    "# Initialisation aléatoire de b (ne doit pas être à 0)\n",
    "b= np.random.normal(0.,20.,D*Kbeta**2).reshape((Kbeta**2,D)) \n",
    "#print(b)"
   ]
  },
  {
   "cell_type": "code",
   "execution_count": 51,
   "metadata": {
    "collapsed": false
   },
   "outputs": [
    {
     "name": "stdout",
     "output_type": "stream",
     "text": [
      "time : 2835.06066896\n",
      "Calcul de Phi_mat\n",
      "time : 2835.16150158\n",
      "Vrais initiale : 49822.3354983\n",
      "time : 2835.35039706\n",
      "Gradient initial : [    0.          5421.43793038   994.17453188   269.08248105    88.75793219\n",
      "  2155.46466664   421.39155553   121.72986664    42.85129491   910.22894399\n",
      "   190.46164625    58.78879708    22.0533396    409.20399582    91.80214581\n",
      "    30.24418021    12.05091921]\n"
     ]
    }
   ],
   "source": [
    "p=1\n",
    "Z=np.zeros((N,p),float)\n",
    "#np.random.normal(0.,10.,N*p).reshape((N,p))\n",
    "\n",
    "Alpha=np.zeros(p,float)\n",
    "Po=np.concatenate( ( Alpha.reshape(-1), (b.T).reshape(-1)) )\n",
    "\n",
    "J=50\n",
    "# Phi_mat\n",
    "print(\"time : \"+str(time.clock()))\n",
    "# symbole associé au petit t (c'est à dire l'instant dans la période de suivi)\n",
    "t=sy.Symbol('t')\n",
    "# smbole associé au grand T (c'est à dire la durée de suivie)\n",
    "s=sy.Symbol('s')\n",
    "\n",
    "syPhi=sy.ones(Kbeta**2,1)\n",
    "v=[np.arange(Kbeta),np.arange(Kbeta)]\n",
    "expo=expandnp(v)\n",
    "Phi_fonc=[ [] for j in range(Kbeta**2) ]\n",
    "for x in range(len(expo[:,0])):\n",
    "        syPhi[x]=(t**expo[x,0])*(s**expo[x,1])\n",
    "        Phi_fonc[x]=sy.lambdify((t,s),syPhi[x],'numpy')  \n",
    "\n",
    "print(\"Calcul de Phi_mat\")\n",
    "Phi_mat=Comp_Phi(Phi_fonc,T,J)\n",
    "print(\"time : \"+str(time.clock()))\n",
    "\n",
    "V=L_YlX_noC(Po,Z,L,T,Xdata,Y,Phi_mat,k_foncs,Psi,moy_est)\n",
    "print('Vrais initiale : '+str(V[0]))\n",
    "print(\"time : \"+str(time.clock()))\n",
    "print('Gradient initial : '+str(V[1]))\n",
    "#print('Vrais perturbée')\n",
    "delta=1e-1\n",
    "Pdel=Po+delta*np.ones(len(Po))\n",
    "#V=L_YlX_noC(Pdel,Z,L,T,Xdata,Y,Phi_mat,k_foncs,Psi,moy_est)\n",
    "#print(V[0])\n",
    "#print(V[1])"
   ]
  },
  {
   "cell_type": "markdown",
   "metadata": {},
   "source": [
    "### Nelder-Mead"
   ]
  },
  {
   "cell_type": "code",
   "execution_count": 14,
   "metadata": {
    "collapsed": true
   },
   "outputs": [
    {
     "name": "stdout",
     "output_type": "stream",
     "text": [
      "Vrais initiale\n",
      "84.5483785513\n",
      "Résultat par Nelder Mead\n",
      "319.199131\n",
      "Warning: Maximum number of iterations has been exceeded.\n",
      "615.639626\n",
      " final_simplex: (array([[  2.36750562,  -1.85663372,  -3.19146641,  24.59931537,\n",
      "         10.61237506, -15.40163617, -56.71077704,  -7.78804533,\n",
      "         20.45638313,  27.1042771 ],\n",
      "       [  2.36416467,  -1.84963452,  -3.20327393,  24.56986388,\n",
      "         10.58987975, -15.36463756, -56.65240806,  -7.77020055,\n",
      "         20.43159102,  27.06935999],\n",
      "       [  2.3649253 ,  -1.84877982,  -3.20533537,  24.56831615,\n",
      "         10.58563204, -15.35618006, -56.65446682,  -7.76450834,\n",
      "         20.42002621,  27.07546168],\n",
      "       [  2.36362982,  -1.84935139,  -3.19865084,  24.5609195 ,\n",
      "         10.58577481, -15.35837942, -56.62704908,  -7.7668734 ,\n",
      "         20.41379172,  27.06288098],\n",
      "       [  2.36402526,  -1.85213349,  -3.19126591,  24.56343101,\n",
      "         10.59154701, -15.36377264, -56.63004794,  -7.77041747,\n",
      "         20.4094165 ,  27.06519218],\n",
      "       [  2.36711814,  -1.85372063,  -3.19643097,  24.58734012,\n",
      "         10.60145532, -15.38165188, -56.69168838,  -7.77712238,\n",
      "         20.43658508,  27.09609159],\n",
      "       [  2.36518024,  -1.85550542,  -3.18919351,  24.58312084,\n",
      "         10.60564495, -15.38849623, -56.67066019,  -7.78349692,\n",
      "         20.4405578 ,  27.08255402],\n",
      "       [  2.36236865,  -1.85046722,  -3.19551013,  24.55573307,\n",
      "         10.58619748, -15.35413128, -56.61590791,  -7.76691739,\n",
      "         20.40924049,  27.05455268],\n",
      "       [  2.36308512,  -1.85458606,  -3.18658652,  24.56901767,\n",
      "         10.60102532, -15.37949302, -56.63390471,  -7.78095793,\n",
      "         20.42898799,  27.05920975],\n",
      "       [  2.36330658,  -1.84915689,  -3.19757881,  24.55540755,\n",
      "         10.58332025, -15.35186997, -56.61638946,  -7.76398354,\n",
      "         20.40428301,  27.05714922],\n",
      "       [  2.36424356,  -1.85241286,  -3.19495411,  24.571146  ,\n",
      "         10.59553155, -15.37129726, -56.65033688,  -7.77462116,\n",
      "         20.42817196,  27.07064707]]), array([ 76.35259415,  76.35260384,  76.35260734,  76.35261077,\n",
      "        76.35261135,  76.35261596,  76.35262118,  76.35263103,\n",
      "        76.35263325,  76.35263331,  76.35264085]))\n",
      "           fun: 76.352594149644233\n",
      "       message: 'Maximum number of iterations has been exceeded.'\n",
      "          nfev: 1161\n",
      "           nit: 800\n",
      "        status: 2\n",
      "       success: False\n",
      "             x: array([  2.36750562,  -1.85663372,  -3.19146641,  24.59931537,\n",
      "        10.61237506, -15.40163617, -56.71077704,  -7.78804533,\n",
      "        20.45638313,  27.1042771 ])\n",
      "b_learned\n",
      "[[ -1.85663372]\n",
      " [ -3.19146641]\n",
      " [ 24.59931537]\n",
      " [ 10.61237506]\n",
      " [-15.40163617]\n",
      " [-56.71077704]\n",
      " [ -7.78804533]\n",
      " [ 20.45638313]\n",
      " [ 27.1042771 ]]\n"
     ]
    }
   ],
   "source": [
    "# Ou avec scipy.optimize.minimize, la méthode de Nelder-Mead est une d'optimisation qui n'utilise pas le gradient\n",
    "#Po=np.concatenate( ( Alpha.reshape(-1), (b.T).reshape(-1) ) )\n",
    "Po=Res.x\n",
    "print('Vrais initiale')\n",
    "print(L_YlX_noC(Po,Z,L,T,Xdata,Y,Phi_mat,k,Psi,moy_est)[0])\n",
    "\n",
    "opts0={'disp': True, 'ftol': 1., 'maxiter': 800}\n",
    "print('Résultat par Nelder Mead')\n",
    "print(time.clock())\n",
    "Res=sc.optimize.minimize(L_YlX_noC_V,x0=Po, args= (Z,L,T,Xdata,Y,Phi_mat,k,Psi,moy_est) , method='Nelder-Mead',options=opts0)\n",
    "print(time.clock())\n",
    "b_learned=Res.x[p:(p+D*Kbeta**2)]\n",
    "b_learned=(b_learned).reshape((D,Kbeta**2)).T\n",
    "print(Res)\n",
    "print('b_learned')\n",
    "print(b_learned)\n"
   ]
  },
  {
   "cell_type": "markdown",
   "metadata": {},
   "source": [
    "### BFGS\n",
    "La méthode L-BFGS-B est une méthode du gradient mais on lui fournit simplement la fonction de vraisemblance, le gradient étant approximé numériquement durant l'algorithme. \n"
   ]
  },
  {
   "cell_type": "code",
   "execution_count": 14,
   "metadata": {
    "collapsed": true
   },
   "outputs": [
    {
     "name": "stdout",
     "output_type": "stream",
     "text": [
      "Vrais initiale\n",
      "23329.4522076\n",
      "Résultat par BFGS\n",
      "Warning: Desired error not necessarily achieved due to precision loss.\n",
      "         Current function value: 99.647038\n",
      "         Iterations: 12\n",
      "         Function evaluations: 368\n",
      "         Gradient evaluations: 51\n",
      "      fun: 99.64703843219728\n",
      " hess_inv: array([[ 1.        ,  0.        ,  0.        ,  0.        ,  0.        ],\n",
      "       [ 0.        ,  0.05436668, -0.232326  , -0.03676779,  0.17820507],\n",
      "       [ 0.        , -0.232326  ,  1.63647417, -0.0418712 , -1.1374575 ],\n",
      "       [ 0.        , -0.03676779, -0.0418712 ,  0.09855148, -0.03768325],\n",
      "       [ 0.        ,  0.17820507, -1.1374575 , -0.03768325,  0.90151524]])\n",
      "      jac: array([  0.00000000e+00,   6.10351562e-05,   1.62124634e-05,\n",
      "         3.43322754e-05,   1.04904175e-05])\n",
      "  message: 'Desired error not necessarily achieved due to precision loss.'\n",
      "     nfev: 368\n",
      "      nit: 12\n",
      "     njev: 51\n",
      "   status: 2\n",
      "  success: False\n",
      "        x: array([ 0.        ,  0.96337271, -3.13930412, -0.88237573,  3.4839796 ])\n",
      "b_learned\n",
      "[[ 0.96337271]\n",
      " [-3.13930412]\n",
      " [-0.88237573]\n",
      " [ 3.4839796 ]]\n"
     ]
    }
   ],
   "source": [
    "\n",
    "print('Vrais initiale')\n",
    "print(L_YlX_noC(Po,Z,L,T,Xdata,Y,Phi_mat,k,Psi,moy_est)[0])\n",
    "\n",
    "opts0={'disp': True, 'maxiter': 15}\n",
    "print('Résultat par BFGS')\n",
    "Res=sc.optimize.minimize(L_YlX_noC_V,x0=Po, args= (Z,L,T,Xdata,Y,Phi_mat,k,Psi,moy_est) ,jac=None, method='BFGS',options=opts0)\n",
    "b_learned=Res.x[p:(p+D*Kbeta**2)]\n",
    "b_learned=(b_learned).reshape((D,Kbeta**2)).T\n",
    "print(Res)\n",
    "print('b_learned')\n",
    "print(b_learned)"
   ]
  },
  {
   "cell_type": "markdown",
   "metadata": {},
   "source": [
    "### BFGS avec gradient"
   ]
  },
  {
   "cell_type": "code",
   "execution_count": 36,
   "metadata": {
    "collapsed": false,
    "scrolled": false
   },
   "outputs": [
    {
     "ename": "SyntaxError",
     "evalue": "invalid syntax (<ipython-input-36-3279b80809cc>, line 5)",
     "output_type": "error",
     "traceback": [
      "\u001b[1;36m  File \u001b[1;32m\"<ipython-input-36-3279b80809cc>\"\u001b[1;36m, line \u001b[1;32m5\u001b[0m\n\u001b[1;33m    for i in range()\u001b[0m\n\u001b[1;37m                    ^\u001b[0m\n\u001b[1;31mSyntaxError\u001b[0m\u001b[1;31m:\u001b[0m invalid syntax\n"
     ]
    }
   ],
   "source": [
    "J=200\n",
    "# Phi_mat\n",
    "Phi_mat=Comp_Phi(Phi_fonc,T,J)\n",
    "\n",
    "print('Vrais initiale')\n",
    "print(L_YlX_noC(Po,Z,L,T,Xdata,Y,Phi_mat,k_foncs,Psi,moy_est)[0])\n",
    "\n",
    "opts0={'disp': True, 'maxiter': 100}\n",
    "print(\"time : \"+str(time.clock()))\n",
    "print('Résultat par BFGS')\n",
    "Res=sc.optimize.minimize(L_YlX_noC,x0=Po, args= (Z,L,T,Xdata,Y,Phi_mat,k_foncs,Psi,moy_est) ,jac=True, method='BFGS',options=opts0)\n",
    "b_learned=Res.x[p:(p+D*Kbeta**2)]\n",
    "b_learned=(b_learned).reshape((D,Kbeta**2)).T\n",
    "\n",
    "print(\"time : \"+str(time.clock()))\n",
    "print(\"Valeur finale : \"+str(Res.fun))\n",
    "print(\"Gradient final : \"+str(Res.jac))\n",
    "print(\"Nombre d'itérations : \"+str(Res.nit))\n",
    "print(Res.message)\n",
    "#print('b_learned')\n",
    "#print(b_learned)"
   ]
  },
  {
   "cell_type": "code",
   "execution_count": 56,
   "metadata": {
    "collapsed": false,
    "scrolled": true
   },
   "outputs": [
    {
     "name": "stdout",
     "output_type": "stream",
     "text": [
      "time : 3655.92723124\n",
      "Warning: Desired error not necessarily achieved due to precision loss.\n",
      "         Current function value: 184.504138\n",
      "         Iterations: 36\n",
      "         Function evaluations: 73\n",
      "         Gradient evaluations: 61\n",
      "time : 3664.34420348\n",
      "Warning: Desired error not necessarily achieved due to precision loss.\n",
      "         Current function value: 185.584483\n",
      "         Iterations: 37\n",
      "         Function evaluations: 85\n",
      "         Gradient evaluations: 73\n",
      "time : 3671.95808298\n",
      "Warning: Desired error not necessarily achieved due to precision loss.\n",
      "         Current function value: 186.161777\n",
      "         Iterations: 34\n",
      "         Function evaluations: 74\n",
      "         Gradient evaluations: 62\n",
      "time : 3679.75437537\n",
      "Warning: Desired error not necessarily achieved due to precision loss.\n",
      "         Current function value: 181.560827\n",
      "         Iterations: 49\n",
      "         Function evaluations: 85\n",
      "         Gradient evaluations: 73\n",
      "time : 3686.02316015\n",
      "Warning: Desired error not necessarily achieved due to precision loss.\n",
      "         Current function value: 181.637202\n",
      "         Iterations: 47\n",
      "         Function evaluations: 79\n",
      "         Gradient evaluations: 67\n",
      "time : 3690.36245622\n",
      "Warning: Desired error not necessarily achieved due to precision loss.\n",
      "         Current function value: 186.832335\n",
      "         Iterations: 36\n",
      "         Function evaluations: 75\n",
      "         Gradient evaluations: 63\n",
      "time : 3694.71680375\n",
      "Warning: Desired error not necessarily achieved due to precision loss.\n",
      "         Current function value: 186.966434\n",
      "         Iterations: 33\n",
      "         Function evaluations: 70\n",
      "         Gradient evaluations: 58\n",
      "time : 3698.60977878\n",
      "Warning: Desired error not necessarily achieved due to precision loss.\n",
      "         Current function value: 3709.392443\n",
      "         Iterations: 6\n",
      "         Function evaluations: 60\n",
      "         Gradient evaluations: 49\n",
      "time : 3702.45530496\n",
      "Warning: Desired error not necessarily achieved due to precision loss.\n",
      "         Current function value: 182.721671\n",
      "         Iterations: 47\n",
      "         Function evaluations: 89\n",
      "         Gradient evaluations: 77\n",
      "time : 3708.6321302\n",
      "Warning: Desired error not necessarily achieved due to precision loss.\n",
      "         Current function value: 180.819960\n",
      "         Iterations: 48\n",
      "         Function evaluations: 78\n",
      "         Gradient evaluations: 66\n",
      "time : 3717.10610499\n",
      "Warning: Desired error not necessarily achieved due to precision loss.\n",
      "         Current function value: 185.994098\n",
      "         Iterations: 34\n",
      "         Function evaluations: 67\n",
      "         Gradient evaluations: 55\n",
      "time : 3723.46078588\n",
      "Warning: Desired error not necessarily achieved due to precision loss.\n",
      "         Current function value: 182.949053\n",
      "         Iterations: 34\n",
      "         Function evaluations: 92\n",
      "         Gradient evaluations: 81\n",
      "time : 3733.31197402\n",
      "Warning: Desired error not necessarily achieved due to precision loss.\n",
      "         Current function value: 186.640237\n",
      "         Iterations: 36\n",
      "         Function evaluations: 74\n",
      "         Gradient evaluations: 62\n",
      "time : 3740.79268921\n",
      "Warning: Desired error not necessarily achieved due to precision loss.\n",
      "         Current function value: 186.333836\n",
      "         Iterations: 36\n",
      "         Function evaluations: 74\n",
      "         Gradient evaluations: 62\n",
      "time : 3746.67719142\n",
      "Warning: Desired error not necessarily achieved due to precision loss.\n",
      "         Current function value: 3347.650497\n",
      "         Iterations: 7\n",
      "         Function evaluations: 38\n",
      "         Gradient evaluations: 26\n",
      "time : 3749.42228483\n",
      "Warning: Desired error not necessarily achieved due to precision loss.\n",
      "         Current function value: 187.924415\n",
      "         Iterations: 19\n",
      "         Function evaluations: 59\n",
      "         Gradient evaluations: 47\n",
      "time : 3755.13083786\n",
      "Warning: Desired error not necessarily achieved due to precision loss.\n",
      "         Current function value: 186.538436\n",
      "         Iterations: 35\n",
      "         Function evaluations: 73\n",
      "         Gradient evaluations: 61\n",
      "time : 3761.27983035\n",
      "Warning: Desired error not necessarily achieved due to precision loss.\n",
      "         Current function value: 179.898594\n",
      "         Iterations: 69\n",
      "         Function evaluations: 108\n",
      "         Gradient evaluations: 96\n",
      "time : 3768.6283624\n",
      "Warning: Desired error not necessarily achieved due to precision loss.\n",
      "         Current function value: 181.821561\n",
      "         Iterations: 52\n",
      "         Function evaluations: 91\n",
      "         Gradient evaluations: 79\n",
      "time : 3773.79251146\n",
      "Warning: Desired error not necessarily achieved due to precision loss.\n",
      "         Current function value: 183.271498\n",
      "         Iterations: 38\n",
      "         Function evaluations: 80\n",
      "         Gradient evaluations: 68\n",
      "[[  0.00000000e+00  -6.85112481e-01   2.29922512e-02   4.95629965e-02\n",
      "    4.66240514e-02  -3.20715163e-01  -4.87898627e-03   2.97177973e-02\n",
      "    1.69194262e-02  -1.65072264e-01   1.95699953e-02   1.40124542e-02\n",
      "   -3.61646433e-03  -8.81419454e-02   1.88203986e-02  -1.86924285e-03\n",
      "   -1.53456844e-02]\n",
      " [  0.00000000e+00   3.98050069e-01   1.96323492e-01   1.19874246e-01\n",
      "    8.73907397e-02   8.02142053e-02   7.14844591e-02   7.19277326e-02\n",
      "    4.12082047e-02  -4.37372351e-02   5.59684776e-02   3.76153265e-02\n",
      "    8.10351109e-03  -8.58615906e-02   3.15528552e-02   7.55827172e-03\n",
      "   -1.27485029e-02]\n",
      " [  0.00000000e+00  -1.28545708e+00  -3.10092908e-01  -8.76264966e-02\n",
      "    2.80651387e-03  -3.60065168e-01  -1.39701631e-01  -2.93045027e-02\n",
      "   -3.90520894e-03  -9.45651071e-02  -2.86302477e-02  -1.51112609e-02\n",
      "   -1.96012308e-02   3.56825159e-02   3.16471817e-03  -2.37013318e-02\n",
      "   -3.30161686e-02]\n",
      " [  0.00000000e+00   5.94906093e-02   1.21088414e-02   8.25989998e-03\n",
      "    5.34440034e-03   2.99231843e-02   4.64866838e-03  -6.53965208e-03\n",
      "   -4.66383149e-03   1.57224975e-02   3.71656057e-03  -6.42345485e-03\n",
      "   -1.10825521e-03   8.78743749e-03   1.08576944e-02   4.16030306e-03\n",
      "    8.57759364e-03]\n",
      " [  0.00000000e+00  -8.04959462e-02  -1.47921526e-01  -7.77832593e-02\n",
      "   -3.88882136e-02  -2.99715602e-01  -1.25099985e-01  -6.65119790e-02\n",
      "   -3.54192486e-02  -2.70593699e-01  -8.52904796e-02  -4.71545310e-02\n",
      "   -2.32710895e-02  -1.87617800e-01  -4.74626298e-02  -2.44177267e-02\n",
      "   -8.29060103e-03]\n",
      " [  0.00000000e+00   2.40312793e+00   4.36507282e-01   1.13321772e-01\n",
      "    7.30600096e-02   9.09632797e-01   1.73797366e-01   7.09136745e-02\n",
      "    3.31742523e-02   3.70932447e-01   1.13286824e-01   3.30462872e-02\n",
      "   -3.84315345e-03   2.08410039e-01   6.17975524e-02  -6.47293977e-03\n",
      "   -3.08385098e-02]\n",
      " [  0.00000000e+00   9.62226102e-02   3.66580870e-02   1.23321961e-02\n",
      "    3.36543072e-02  -1.44762233e-02  -1.98844791e-02   1.50894654e-02\n",
      "    1.23975545e-02  -2.39220581e-02   1.67555534e-02   8.09348528e-03\n",
      "   -9.20367501e-03  -1.44683771e-02   1.72602131e-02  -1.00700079e-02\n",
      "   -2.52948747e-02]\n",
      " [  0.00000000e+00   1.03416128e+02   4.31700763e+00   2.64821098e+00\n",
      "    3.57011989e+00  -6.25572223e+01  -5.98472272e+00   3.11626468e+00\n",
      "    3.79834783e+00  -5.67064122e+01  -1.70172829e+00   3.99730376e+00\n",
      "    3.53691660e+00  -3.17684624e+01   1.86075018e+00   4.01515867e+00\n",
      "    2.98529252e+00]\n",
      " [  0.00000000e+00   1.58787547e+00   3.92693381e-01   1.31149633e-01\n",
      "    5.40253127e-02   9.46001111e-01   1.88708834e-01   5.04145697e-02\n",
      "    1.77993055e-02   5.66425909e-01   1.00999544e-01   2.14835036e-02\n",
      "    9.08789687e-03   3.37873325e-01   6.49279970e-02   1.79865302e-02\n",
      "    1.27271944e-02]\n",
      " [  0.00000000e+00  -2.89664939e-01  -7.33423799e-02  -1.75394684e-02\n",
      "   -6.36870314e-03  -1.56143371e-01  -4.37381053e-02  -2.13678414e-02\n",
      "   -1.36021116e-02  -8.90577073e-02  -2.33926118e-02  -1.72153840e-02\n",
      "   -9.80063964e-03  -5.39570056e-02  -7.98158726e-03  -6.35457469e-03\n",
      "   -6.03249175e-04]\n",
      " [  0.00000000e+00  -6.24204684e-02  -6.71335863e-03  -5.61844243e-03\n",
      "    2.00150658e-02  -8.37242393e-03  -2.81859895e-02   1.53133577e-03\n",
      "    2.04683139e-03  -2.52090439e-02   1.28531873e-02  -9.86120434e-04\n",
      "   -1.51697905e-02   9.14636607e-03   2.08204888e-02  -1.34619311e-02\n",
      "   -2.72861585e-02]\n",
      " [  0.00000000e+00   1.14931937e+01   2.91902332e+00   1.09624463e+00\n",
      "    4.75512577e-01   5.89628640e+00   1.58338977e+00   6.04863864e-01\n",
      "    2.62545277e-01   3.12504791e+00   8.97574202e-01   3.45857849e-01\n",
      "    1.51653153e-01   1.73252694e+00   5.31985412e-01   2.09043724e-01\n",
      "    9.50182321e-02]\n",
      " [  0.00000000e+00  -3.64922943e-01  -5.45199646e-02  -2.06081968e-02\n",
      "    1.17838898e-02  -1.11845052e-01  -6.15952170e-02  -9.82991988e-03\n",
      "   -3.45930538e-03  -5.38598320e-02  -7.00360122e-03  -7.00877172e-03\n",
      "   -1.77607188e-02  -1.72495659e-02   9.49572059e-03  -1.54253426e-02\n",
      "   -2.78321223e-02]\n",
      " [  0.00000000e+00   3.10549699e+00   9.34438356e-01   3.84553014e-01\n",
      "    1.97390215e-01   1.47469463e+00   4.66314561e-01   2.22802424e-01\n",
      "    1.05205721e-01   7.21634775e-01   3.00168835e-01   1.31455102e-01\n",
      "    4.55401711e-02   4.48486030e-01   1.99723796e-01   6.71183349e-02\n",
      "    7.67927698e-03]\n",
      " [  0.00000000e+00  -2.79752255e+02  -9.08351849e+01  -3.35492510e+01\n",
      "   -1.33252169e+01  -1.34634176e+02  -4.42167442e+01  -1.67679953e+01\n",
      "   -6.85209961e+00  -5.96919538e+01  -2.12183801e+01  -8.46791688e+00\n",
      "   -3.60031519e+00  -2.44071780e+01  -1.01329290e+01  -4.35196269e+00\n",
      "   -1.94211419e+00]\n",
      " [  0.00000000e+00   9.17288368e-01   2.59129661e-01   7.97349605e-02\n",
      "    7.57875809e-02   4.34347198e-01   1.24795709e-01   7.08216801e-02\n",
      "    4.72686718e-02   2.51543664e-01   9.50245420e-02   4.26509719e-02\n",
      "    1.43540825e-02   9.67166740e-02   4.48905703e-02   6.65426714e-03\n",
      "   -1.11276756e-02]\n",
      " [  0.00000000e+00   8.91716189e-01   4.43355691e-03  -7.49201818e-02\n",
      "   -2.85017272e-02   4.16260533e-02  -1.13461155e-01  -5.58650571e-02\n",
      "   -3.02406962e-02  -1.52577109e-01  -6.77367020e-02  -4.14401259e-02\n",
      "   -3.66780450e-02  -1.45191988e-01  -4.28324622e-02  -4.19814354e-02\n",
      "   -4.22567643e-02]\n",
      " [  0.00000000e+00  -1.24978385e-01  -3.34508703e-02  -2.07174844e-02\n",
      "    7.48366494e-04  -6.44763823e-02  -1.72592333e-02  -5.28168803e-03\n",
      "   -1.80149763e-04  -4.11745834e-02  -9.49679609e-03  -6.04692338e-03\n",
      "   -3.22567640e-03  -1.79118429e-02  -1.21559952e-02  -7.79753037e-03\n",
      "   -3.09827832e-03]\n",
      " [  0.00000000e+00  -1.52255802e-01  -1.06648572e-01  -4.71033755e-02\n",
      "   -2.19713537e-02  -1.59727085e-01  -6.78860970e-02  -3.83060633e-02\n",
      "   -2.21120901e-02  -9.52249009e-02  -3.35327310e-02  -2.50747801e-02\n",
      "   -1.37144340e-02  -3.92151790e-02  -7.34396269e-03  -8.43025758e-03\n",
      "   -1.74733379e-03]\n",
      " [  0.00000000e+00   7.20015400e-01   4.77301451e-01   2.35503869e-01\n",
      "    1.26323376e-01   3.99967037e-01   2.43892693e-01   1.28332717e-01\n",
      "    5.74683855e-02   1.38571935e-01   1.50251273e-01   6.41125038e-02\n",
      "    1.47123567e-02   8.81982673e-02   9.18268511e-02   2.16391354e-02\n",
      "   -9.78502544e-03]]\n"
     ]
    }
   ],
   "source": [
    "J=100\n",
    "# Phi_mat\n",
    "Phi_mat=Comp_Phi(Phi_fonc,T,J)\n",
    "\n",
    "it=10\n",
    "b_liste=[ [] for i in range(it)]\n",
    "messages=[ [] for i in range(it)]\n",
    "V_Its=np.zeros((3,it),float)\n",
    "Jac=np.zeros((it,len(Po)),float)\n",
    "opts0={'disp': True, 'maxiter': 100}\n",
    "\n",
    "for i in range(it):\n",
    "    b= np.random.normal(0.,40.,D*Kbeta**2).reshape((Kbeta**2,D)) \n",
    "    Po=np.concatenate( ( Alpha.reshape(-1), (b.T).reshape(-1)) )\n",
    "\n",
    "    print(\"time : \"+str(time.clock()))\n",
    "    Res=sc.optimize.minimize(L_YlX_noC,x0=Po, args= (Z,L,T,Xdata,Y,Phi_mat,k_foncs,Psi,moy_est) ,jac=True, method='BFGS',options=opts0)\n",
    "    \n",
    "    b_liste[i]=Res.x[p:(p+D*Kbeta**2)]\n",
    "    b_liste[i]=(b_liste[i]).reshape((D,Kbeta**2)).T\n",
    "    messages[i]=Res.message\n",
    "    V_Its[0,i]=Res.fun\n",
    "    V_Its[1,i]=Res.nit\n",
    "    Jac[i,:]=Res.jac\n",
    "\n",
    "#print(messages)\n",
    "#print(V_Its)\n",
    "print(Jac)\n",
    "    "
   ]
  },
  {
   "cell_type": "markdown",
   "metadata": {},
   "source": [
    "## C) Résultats AMSE "
   ]
  },
  {
   "cell_type": "code",
   "execution_count": 57,
   "metadata": {
    "collapsed": false
   },
   "outputs": [
    {
     "name": "stdout",
     "output_type": "stream",
     "text": [
      "AMSE avec une base de 16 fonctions\n",
      "14.0242277608\n",
      "AMSE avec une base de 16 fonctions\n",
      "13.6034498635\n",
      "AMSE avec une base de 16 fonctions\n",
      "13.0779544148\n",
      "AMSE avec une base de 16 fonctions\n",
      "15.252009288\n",
      "AMSE avec une base de 16 fonctions\n",
      "14.867111486\n",
      "AMSE avec une base de 16 fonctions\n",
      "13.815683337\n",
      "AMSE avec une base de 16 fonctions\n",
      "12.3707038659\n",
      "AMSE avec une base de 16 fonctions\n",
      "275.122512501\n",
      "AMSE avec une base de 16 fonctions\n",
      "13.5063656234\n",
      "AMSE avec une base de 16 fonctions\n",
      "15.5729770782\n",
      "AMSE avec une base de 16 fonctions\n",
      "12.8406353353\n",
      "AMSE avec une base de 16 fonctions\n",
      "14.2433201412\n",
      "AMSE avec une base de 16 fonctions\n",
      "13.0020110946\n",
      "AMSE avec une base de 16 fonctions\n",
      "14.1385640792\n",
      "AMSE avec une base de 16 fonctions\n",
      "835.256283075\n",
      "AMSE avec une base de 16 fonctions\n",
      "11.9502622737\n",
      "AMSE avec une base de 16 fonctions\n",
      "12.8395144033\n",
      "AMSE avec une base de 16 fonctions\n",
      "20.4586452778\n",
      "AMSE avec une base de 16 fonctions\n",
      "16.041932781\n",
      "AMSE avec une base de 16 fonctions\n",
      "15.5390437836\n"
     ]
    }
   ],
   "source": [
    "syb=sy.ones(1,Kbeta**2)\n",
    "for x in range(len(expo[:,0])):\n",
    "        syb[x]=sy.Symbol('b'+str(x))\n",
    "syBeta=syb*syPhi\n",
    "\n",
    "for i in range(it):\n",
    "    b_learned=b_liste[i]\n",
    "    Beta_fonc_est=[ [] for j in range(D)]\n",
    "    for j in range(D):\n",
    "            replacements= [ (sy.Symbol('b'+str(x)),b_learned[x,j]) for x in range(Kbeta**2)]\n",
    "            syBeta_subs=syBeta.subs(replacements)[0]\n",
    "            Beta_fonc_est[j]=sy.lambdify((t,s),syBeta_subs,'numpy')\n",
    "\n",
    "    AMSE=0.\n",
    "    Tmax=np.max(T)\n",
    "    Tmin=np.min(T)\n",
    "    nb=3\n",
    "    grille=np.vstack((np.linspace(Tmin,Tmax,nb),np.arange(nb)))\n",
    "    for T_,i in grille.T:\n",
    "        for t_ in grille[0,0:(int(i)+1)]:\n",
    "            true_b=true_beta.val([t_,T_])\n",
    "            est_b=Beta_fonc_est[0](t_,T_)\n",
    "            AMSE= AMSE + (true_b - est_b )**2\n",
    "    AMSE=AMSE/(nb*(nb+1)/2)\n",
    "\n",
    "    print(\"AMSE avec une base de \"+str(Kbeta**2)+\" fonctions\")\n",
    "    print(AMSE)\n"
   ]
  },
  {
   "cell_type": "markdown",
   "metadata": {},
   "source": [
    "### Surface de la fonction paramètre estimée"
   ]
  },
  {
   "cell_type": "code",
   "execution_count": 58,
   "metadata": {
    "collapsed": false
   },
   "outputs": [
    {
     "data": {
      "image/png": "[encoded data removed]",
      "text/plain": [
       "<matplotlib.figure.Figure at 0x10af1d30>"
      ]
     },
     "metadata": {},
     "output_type": "display_data"
    }
   ],
   "source": [
    "sizegrid=150\n",
    "x=np.linspace( 0.1, np.max(T), num=sizegrid)\n",
    "y=np.linspace( 0.1, np.max(T), num=sizegrid)\n",
    "arr=[x,y]\n",
    "Grid=expandnp(arr)\n",
    "x=Grid[:,0]\n",
    "y=Grid[:,1]\n",
    "arrV=np.zeros(sizegrid**2,float)\n",
    "n=0\n",
    "for i in range(sizegrid):\n",
    "    for j in range(sizegrid):\n",
    "        if j<=i:\n",
    "            arrV[n] = Beta_fonc_est[0](x[n],y[n])\n",
    "        n+=1\n",
    "Xfig=x.reshape((sizegrid,sizegrid))\n",
    "Yfig=y.reshape((sizegrid,sizegrid))\n",
    "Zfig=arrV.reshape((sizegrid,sizegrid))\n",
    "\n",
    "plt.imshow(Zfig, vmin=Zfig.min(), vmax=Zfig.max(), origin='lower',\n",
    "           extent=[ Yfig.min(), Yfig.max(),Xfig.min(),Xfig.max()])\n",
    "plt.colorbar()\n",
    "plt.show()\n"
   ]
  },
  {
   "cell_type": "markdown",
   "metadata": {},
   "source": [
    "### Surface de la fonction paramètre réelle"
   ]
  },
  {
   "cell_type": "code",
   "execution_count": 42,
   "metadata": {
    "collapsed": false
   },
   "outputs": [
    {
     "data": {
      "image/png": "[encoded data removed]",
      "text/plain": [
       "<matplotlib.figure.Figure at 0x11162128>"
      ]
     },
     "metadata": {},
     "output_type": "display_data"
    }
   ],
   "source": [
    "arrV=np.zeros(sizegrid**2,float)\n",
    "n=0\n",
    "for i in range(sizegrid):\n",
    "    for j in range(sizegrid):\n",
    "        if j<=i:\n",
    "            arrV[n] = true_beta.val([x[n],y[n]])\n",
    "        n+=1\n",
    "Xfig=x.reshape((sizegrid,sizegrid))\n",
    "Yfig=y.reshape((sizegrid,sizegrid))\n",
    "Zfig=arrV.reshape((sizegrid,sizegrid))\n",
    "\n",
    "plt.imshow(Zfig, vmin=Zfig.min(), vmax=Zfig.max(), origin='lower',\n",
    "           extent=[Xfig.min(),Xfig.max(), Yfig.min(), Yfig.max()])\n",
    "plt.colorbar()\n",
    "plt.show()"
   ]
  },
  {
   "cell_type": "markdown",
   "metadata": {},
   "source": [
    "## D) Tests pour la validation du Gradient"
   ]
  },
  {
   "cell_type": "code",
   "execution_count": 61,
   "metadata": {
    "collapsed": false,
    "scrolled": true
   },
   "outputs": [
    {
     "name": "stdout",
     "output_type": "stream",
     "text": [
      "Po\n",
      "[  0.         -13.81111992 -20.43022372  21.13352733 -24.71706398]\n",
      "Gradient calculé en Po\n",
      "[     0.         -10408.91800605  -1958.47876813  -5830.08266576\n",
      "  -1159.65492059]\n",
      "Approx du gradient en Po\n",
      "[     0.         -25407.31482441  -7538.10396418 -15507.84858409\n",
      "  -5259.3354485 ]\n",
      "19145.5127393\n",
      "Cette fonction renvoie la racine de la somme des carrés des erreurs entre le gradient approximé numériquement et le gradient calculé par la deuxième entrée\n",
      "19145.5160272\n"
     ]
    }
   ],
   "source": [
    "J=5\n",
    "# Phi_mat\n",
    "Phi= Base([Kbeta,Kbeta])\n",
    "Phi_mat= Comp_Phi(Phi,T,J)\n",
    "\n",
    "# Vérification du gradient avec scipy.optimize.approx_fprime et check_grad\n",
    "print(\"Po\")\n",
    "print(Po)\n",
    "print(\"Gradient calculé en Po\")\n",
    "calc=L_YlX_noC(Po,Z,L,T,Xdata,Y,Phi_mat,k,Psi,moy_est)[1]\n",
    "print(calc)\n",
    "Appr=sc.optimize.approx_fprime(Po, L_YlX_noC_V, 1e-7*np.ones(len(Po)), Z,L,T,Xdata,Y,Phi_mat,k,Psi,moy_est)\n",
    "print(\"Approx du gradient en Po\")\n",
    "print(Appr)\n",
    "print(np.sqrt((Appr-calc).dot((Appr-calc))))\n",
    "A=sc.optimize.check_grad(L_YlX_noC_V,L_YlX_noC_G,Po, Z,L,T,Xdata,Y,Phi_mat,k,Psi,moy_est )\n",
    "print(\"Cette fonction renvoie la racine de la somme des carrés des erreurs entre le gradient approximé numériquement et le gradient calculé par la deuxième entrée\")\n",
    "print(A)"
   ]
  },
  {
   "cell_type": "markdown",
   "metadata": {},
   "source": [
    "### Surface de la vraisemblance locale au niveau d'une section 2D passant par le point d'initialisation"
   ]
  },
  {
   "cell_type": "code",
   "execution_count": 50,
   "metadata": {
    "collapsed": true
   },
   "outputs": [
    {
     "name": "stdout",
     "output_type": "stream",
     "text": [
      "Po\n",
      "[  0.         -41.8114451    2.27369087  23.99531827  -1.86349058]\n",
      "Grad en Po\n",
      "[    0.         -4652.70487612 -1176.65527526 -2425.87588506  -666.17633461]\n",
      "Approx du gradient en Po\n",
      "[   0.         -487.50414862 -118.79354133 -228.11203962  -56.7814277 ]\n",
      "Somme des carrés des écarts\n",
      "4865.13068902\n"
     ]
    },
    {
     "data": {
      "text/plain": [
       "<mpl_toolkits.mplot3d.art3d.Poly3DCollection at 0x7fc383c22250>"
      ]
     },
     "execution_count": 50,
     "metadata": {},
     "output_type": "execute_result"
    },
    {
     "data": {
      "image/png": "[encoded data removed]",
      "text/plain": [
       "<matplotlib.figure.Figure at 0x7fc3855762d0>"
      ]
     },
     "metadata": {},
     "output_type": "display_data"
    }
   ],
   "source": [
    "J=15\n",
    "# Phi_mat\n",
    "Phi= Base([Kbeta,Kbeta])\n",
    "Phi_mat= Comp_Phi(Phi,T,J)\n",
    "\n",
    "sizegrid=10\n",
    "maxray=10.\n",
    "x=np.linspace( Po[1]-maxray, Po[1]+maxray, num=sizegrid)\n",
    "y=np.linspace( Po[2]-maxray, Po[2]+maxray, num=sizegrid)\n",
    "arr=[x,y]\n",
    "Grid=expandnp(arr)\n",
    "x=Grid[:,0]\n",
    "y=Grid[:,1]\n",
    "print(\"Po\")\n",
    "print(Po)\n",
    "V=L_YlX_noC(Po,Z,L,T,Xdata,Y,Phi_mat,k,Psi,moy_est)\n",
    "print(\"Grad en Po\")\n",
    "print(V[1])\n",
    "Appr=sc.optimize.approx_fprime(Po, L_YlX_noC_V, 1e-7*np.ones(len(Po)), Z,L,T,Xdata,Y,Phi_mat,k,Psi,moy_est)\n",
    "print(\"Approx du gradient en Po\")\n",
    "print(Appr)\n",
    "print(\"Somme des carrés des écarts\")\n",
    "print(np.sqrt((Appr-V[1]).dot((Appr-V[1]))))\n",
    "arrV=np.zeros(sizegrid**2,float)\n",
    "P=Po+np.zeros(len(Po))\n",
    "for i in range(sizegrid**2):\n",
    "    P[1]=x[i]\n",
    "    P[2]=y[i]\n",
    "    arrV[i]=L_YlX_noC_V(P,Z,L,T,Xdata,Y,Phi_mat,k,Psi,moy_est)\n",
    "\n",
    "Xfig=x.reshape((sizegrid,sizegrid))\n",
    "Yfig=y.reshape((sizegrid,sizegrid))\n",
    "Zfig=arrV.reshape((sizegrid,sizegrid))\n",
    "\n",
    "from mpl_toolkits.mplot3d import Axes3D\n",
    "fig = plt.figure()\n",
    "ax = fig.add_subplot(111, projection='3d')\n",
    "ax.plot_surface(Xfig, Yfig, Zfig)"
   ]
  },
  {
   "cell_type": "markdown",
   "metadata": {},
   "source": [
    "# 4) Régression fonctionnelle pénalisée : $\\mathcal{L}(Y|X,\\mathcal{P})+\\lambda Pen(\\beta)$\n",
    "\n",
    "La pénalité de $\\beta$ est dérivée à partir des intégrale du carré de la courbure des fonctions $\\phi_i \\phi_j$ sur le domaine. On calcule donc ces intégrales avant l'optimisation pour les transmettre à la fonction L_Y|X_pen_noCens chargée de l'évaluation de la vraisemblance et du gradient.\n",
    "\n",
    "## A) Courbure de la base\n",
    "\n",
    "On commence tout d'abord par calculer les matrices des intégrales des produits croisés des dérivées secondes des fonction de la base $\\phi_1,...,\\phi_{K_{\\beta}}$."
   ]
  },
  {
   "cell_type": "code",
   "execution_count": 13,
   "metadata": {
    "collapsed": false
   },
   "outputs": [
    {
     "name": "stdout",
     "output_type": "stream",
     "text": [
      "Calcul de I_pen\n",
      "75.6543722369 secondes de calcul\n"
     ]
    }
   ],
   "source": [
    "Kbeta=5\n",
    "Tmax=np.max(T)\n",
    "J=100\n",
    "# symbole associé au petit t (c'est à dire l'instant dans la période de suivi)\n",
    "t=sy.Symbol('t')\n",
    "# smbole associé au grand T (c'est à dire la durée de suivie)\n",
    "s=sy.Symbol('s')\n",
    "\n",
    "syPhi=sy.ones(Kbeta**2,1)\n",
    "v=[np.arange(Kbeta),np.arange(Kbeta)]\n",
    "expo=expandnp(v)\n",
    "Phi_fonc=[ [] for j in range(Kbeta**2) ]\n",
    "for x in range(len(expo[:,0])):\n",
    "        syPhi[x]=(t**expo[x,0])*(s**expo[x,1])\n",
    "        #Phi_fonc[x]=sy.lambdify((t,s),syPhi[x],'numpy')  \n",
    "sy.pprint(syPhi[:])\n",
    "(Is,Ic,It)=J22_fast(syPhi,Tmax,J)\n",
    "# I_pen\n",
    "I_pen=Is+2*Ic+It\n",
    "\n",
    "# On fixe l'hyperparamètre lié à la pénalité\n",
    "Lambda=1."
   ]
  },
  {
   "cell_type": "markdown",
   "metadata": {},
   "source": [
    "## B) Test"
   ]
  },
  {
   "cell_type": "code",
   "execution_count": 14,
   "metadata": {
    "collapsed": true
   },
   "outputs": [
    {
     "name": "stdout",
     "output_type": "stream",
     "text": [
      "Po\n",
      "[  0.           9.66292835  -1.42579648   4.39290512   3.67655259\n",
      "   0.21900491  -6.32863971   2.13077613   2.08833403   2.06602772\n",
      "   0.86844692   2.64028649  -0.99585784  -1.01648952  -1.092248\n",
      "  -2.96139087   2.73539767  -1.7278269    4.57849289  -4.62805428\n",
      "   4.4564407    6.05864948  -3.66121425  11.97598431   7.93935903\n",
      "   4.2432333   -3.7332414    0.83348685  -0.1396892   -4.57680311\n",
      " -11.43643064   2.57451861  -1.71618611 -10.77789258  -4.82601383\n",
      "  -3.29923773   1.04903926  -5.04775806  -7.69270084  -0.31937309\n",
      "   9.74400108  -4.44162878   3.27275027  -0.4685238    3.73519665\n",
      "  -1.90826204  -5.59678527   3.34717358   6.08126651   2.38092007\n",
      "  -2.60338577   0.69435545  -3.80453366  -1.3582599    2.06055521\n",
      "  -2.41711377  -0.30701935   5.37217895  -2.85850773   7.32723245\n",
      "  -9.1511981    5.88275012  16.11798397  -3.27629892  -4.71543405\n",
      "  -6.80171334  -4.6568397    6.04376267  -1.79407658   3.2155611\n",
      "  -4.42495837  -4.05522604   2.61015332   7.52009374  -3.20396227\n",
      "   4.81825269   6.79874686   3.59812484   6.93323609   2.3613253\n",
      "  -2.99195988   3.67197445   6.916869     1.09076906   5.58588298\n",
      "  -7.09812184  -1.34929033  -1.16728456   1.31582061   7.37922087\n",
      "  -3.17201676  -2.10045501  -1.11673727   1.96445616   4.541639     2.9029544\n",
      "   3.55738602   7.20702206   3.22576547   1.46263712   2.97771791]\n",
      "Grad en Po\n",
      "[     0.          90801.44604074  28138.70174516  13235.29623539\n",
      "   7622.23584315   4990.05820495   3588.45844875   2776.60262226\n",
      "   2276.33199215   1953.00347999   1736.18485296  56157.43166574\n",
      "  19502.4596265    9977.25399431   6085.03450079   4137.66272044\n",
      "   3046.20571633   2386.21682057   1963.48344202   1679.89099453\n",
      "   1482.30358065  38720.14400772  14677.85445868   7968.46891677\n",
      "   5056.58509165   3530.98435818   2645.46023129   2094.82130283\n",
      "   1733.72052742   1486.3634951    1310.65417832  29004.86386776\n",
      "  11732.76745275   6636.32880597   4327.86743632   3079.57569058\n",
      "   2337.77338068   1867.87842217   1554.92966903   1337.64387707\n",
      "   1181.39785665  23102.79187229   9797.91805341   5697.37665513\n",
      "   3784.68700831   2728.72007714   2091.58746455   1683.11119826\n",
      "   1408.28518479   1215.73939407   1076.13864085  19235.63550913\n",
      "   8442.82272948   4999.56978996   3361.75177614   2445.86825481\n",
      "   1888.15055464   1527.94527401   1284.03117147   1112.12722209\n",
      "    986.79646964  16535.69248824   7442.27344204   4458.49693089\n",
      "   3021.17961032   2211.62818405   1716.2525244    1395.03606072\n",
      "   1176.71526568   1022.28361145    909.27991108  14550.08465257\n",
      "   6671.28530117   4024.7025175    2739.76588695   2013.71057194\n",
      "   1568.64402508   1279.62155504   1082.85557302    943.39819215\n",
      "    841.12710337  13027.69773437   6056.7415772    3667.76959746\n",
      "   2502.60336402   1843.93002633   1440.36651988   1178.39824105\n",
      "   1000.03598365    873.54356165    780.68176081  11821.42300667\n",
      "   5553.7539851    3368.13060321   2299.69052166   1696.5942036\n",
      "   1327.87260991   1088.95790417    926.48118746    811.30692189\n",
      "    726.74220184]\n",
      "Approx du gradient en Po\n",
      "[     0.          81302.44757398  25129.47872397  11861.19137332\n",
      "   6854.37960317   4501.72153418   3248.83657275   2524.58550851\n",
      "   2080.10311704   1794.59294188   1604.75850222  50257.11293682\n",
      "  17431.45709625   8945.37731074   5469.93506257   3727.7819158\n",
      "   2751.34866359   2161.99591407   1785.78152903   1534.59128225\n",
      "   1360.63134647  34623.26145847  13122.05331749   7143.20824365\n",
      "   4541.47151671   3175.98746624   2383.69684084   1892.11997553\n",
      "   1570.9197137    1351.93875525   1197.27117126  25908.65455801\n",
      "  10487.24253429   5945.93984424   3882.54563673   2765.05585294\n",
      "   2101.55774141   1682.43115302   1404.45088502   1212.43539848\n",
      "   1075.17494587  20614.22489467   8754.49689454   5100.8750475\n",
      "   3390.69972397   2445.3555455    1875.78997458   1511.88610005\n",
      "   1268.2185194    1098.47202315    976.17847729  17146.13187825\n",
      "   7539.96599      4471.95549146   3007.16021913   2187.32209876\n",
      "   1689.12724941   1368.70042305   1152.91166934   1001.79029512\n",
      "    892.36737113  14726.21021094   6642.58988108   3983.63042274\n",
      "   2697.8732727    1973.40204031   1531.3126659    1246.05553108\n",
      "   1053.38489986    918.05534787    819.77258786  12948.06640362\n",
      "   5950.70099924   3591.63704095   2441.99359207   1792.48761619\n",
      "   1395.73251945   1139.55252455    966.37544921    844.59619247\n",
      "    756.02550525  11586.22765332   5398.94705755   3268.75301078\n",
      "   2226.13098565   1637.18228345   1277.86743105   1046.14710435\n",
      "    889.62872978    779.59139133    699.542847    10508.52863234\n",
      "   4947.19623355   2997.4623851    2041.29726742   1502.33909138\n",
      "   1174.48354489    963.62197422    821.49204914    721.71095526\n",
      "    649.18150078]\n",
      "Ecart-type\n",
      "142.325244693\n"
     ]
    },
    {
     "data": {
      "text/plain": [
       "<mpl_toolkits.mplot3d.art3d.Poly3DCollection at 0x98eed68>"
      ]
     },
     "execution_count": 14,
     "metadata": {},
     "output_type": "execute_result"
    },
    {
     "data": {
      "image/png": "[encoded data removed]",
      "text/plain": [
       "<matplotlib.figure.Figure at 0x95d1e10>"
      ]
     },
     "metadata": {},
     "output_type": "display_data"
    }
   ],
   "source": [
    "# Initialisation aléatoire de b (ne doit pas être à 0)\n",
    "b=np.random.normal(0.,5.,D*Kbeta**2).reshape((Kbeta**2,D))\n",
    "\n",
    "Po=np.concatenate( ( Alpha.reshape(-1), (b.T).reshape(-1)) )\n",
    "\n",
    "J=10\n",
    "# Phi_mat\n",
    "Phi= Base([Kbeta,Kbeta])\n",
    "Phi_mat= Comp_Phi(Phi,T,J)\n",
    "\n",
    "sizegrid=25\n",
    "maxray=50.\n",
    "x=np.linspace( Po[1]-maxray, Po[1]+maxray, num=sizegrid)\n",
    "y=np.linspace( Po[2]-maxray, Po[2]+maxray, num=sizegrid)\n",
    "arr=[x,y]\n",
    "Grid=expandnp(arr)\n",
    "x=Grid[:,0]\n",
    "y=Grid[:,1]\n",
    "print(\"Po\")\n",
    "print(Po)\n",
    "V=L_YlX_pen_noC(Po,Z,L,T,Xdata,Y,Phi_mat,k,Psi,moy_est,I_pen,Lambda)\n",
    "print(\"Grad en Po\")\n",
    "print(V[1])\n",
    "Appr=sc.optimize.approx_fprime(Po, L_YlX_pen_noC_V, 1e-4*np.ones(len(Po)), Z,L,T,Xdata,Y,Phi_mat,k,Psi,moy_est,I_pen,Lambda)\n",
    "print(\"Approx du gradient en Po\")\n",
    "print(Appr)\n",
    "print(\"Ecart-type\")\n",
    "print(np.sqrt((Appr-V[1]).dot((Appr-V[1])))/(Kbeta**2))\n",
    "\n",
    "J=10\n",
    "# Phi_mat\n",
    "Phi= Base([Kbeta,Kbeta])\n",
    "Phi_mat= Comp_Phi(Phi,T,J)\n",
    "\n",
    "arrV=np.zeros(sizegrid**2,float)\n",
    "P=Po+np.zeros(len(Po))\n",
    "for i in range(sizegrid**2):\n",
    "    P[1]=x[i]\n",
    "    P[2]=y[i]\n",
    "    arrV[i]=L_YlX_pen_noC_V(P,Z,L,T,Xdata,Y,Phi_mat,k,Psi,moy_est,I_pen,Lambda)\n",
    "\n",
    "Xfig=x.reshape((sizegrid,sizegrid))\n",
    "Yfig=y.reshape((sizegrid,sizegrid))\n",
    "Zfig=arrV.reshape((sizegrid,sizegrid))\n",
    "plt.imshow(Zfig, vmin=Zfig.min(), vmax=Zfig.max(), origin='lower',\n",
    "           extent=[Xfig.min(),Xfig.max(), Yfig.min(), Yfig.max()])\n",
    "plt.colorbar()\n",
    "plt.show()"
   ]
  },
  {
   "cell_type": "code",
   "execution_count": 17,
   "metadata": {
    "collapsed": false
   },
   "outputs": [
    {
     "name": "stdout",
     "output_type": "stream",
     "text": [
      "Vrais initiale\n",
      "769421.375222\n",
      "Résultat par BFGS\n",
      "Warning: Desired error not necessarily achieved due to precision loss.\n",
      "         Current function value: -658225108.191564\n",
      "         Iterations: 7\n",
      "         Function evaluations: 43\n",
      "         Gradient evaluations: 31\n",
      "39.2753370688 secondes\n",
      "Current function value : -658225108.192\n",
      "Jacobian : [     0.          86137.23491543  71662.80095344  54230.04470615\n",
      "  36336.86977405  18356.94794245    414.54155045 -17436.23701102\n",
      " -35167.86850503 -52764.92794034 -70218.21435948  30381.16275447\n",
      "  22500.53390253  15958.98809038  10185.75927669   4872.56098789\n",
      "   -137.67822188  -4932.42654377  -9564.27612377 -14066.80694073\n",
      " -18462.51144465  12897.99770964  12373.60452007  11421.23619796\n",
      "  10385.32868752   9326.52004055   8263.4053451    7203.22143329\n",
      "   6149.19430035   5102.90358936   4065.17489882  11098.58684986\n",
      "  11509.43590824  11625.50092185  11673.9389427   11697.42507191\n",
      "  11709.60546026  11715.93661265  11718.91466547  11719.80459625\n",
      "  11719.30169477   9798.78829281  10548.64524489  11082.40409882\n",
      "  11560.86289917  12015.84248225  12457.77676586  12890.90038637\n",
      "  13317.17970067  13737.63184162  14152.83234372   8900.71980545\n",
      "   9767.56894604  10467.9601553   11122.39977839  11755.61946343\n",
      "  12375.8385682   12986.41862748  13588.93436461  14184.21112401\n",
      "  14772.72485246   8283.69466564   9174.86238195   9932.65716483\n",
      "  10651.69073319  11351.77915127  12039.54316957  12717.69930352\n",
      "  13387.52646078  14049.70074676  14704.61719925   7859.12751472\n",
      "   8733.86426033   9498.29488053  10229.60154487  10944.03327582\n",
      "  11647.01528994  12340.77436289  13026.36136509  13704.33492271\n",
      "  14375.02449651   7566.88761804   8407.3769348    9154.25741953\n",
      "   9872.51493169  10575.71753086  11268.3710186   11952.32172628\n",
      "  12628.44146999  13297.19520089  13958.85897621   7366.55638896\n",
      "   8165.74147289   8883.79891061   9576.88629016  10256.49977805\n",
      "  10926.42191011  11588.19768019  12242.55598317  12889.88612998\n",
      "  13530.42037055]\n",
      "Message : Desired error not necessarily achieved due to precision loss.\n",
      "iterations : 7\n",
      "b_learned\n",
      "[[ -2.76090715e+02]\n",
      " [ -6.92259701e+03]\n",
      " [ -6.04732298e+03]\n",
      " [ -4.93926244e+03]\n",
      " [ -3.92438062e+03]\n",
      " [ -2.80193147e+03]\n",
      " [ -1.47857198e+03]\n",
      " [  1.49894562e+01]\n",
      " [  1.65345020e+03]\n",
      " [  3.39946606e+03]\n",
      " [  1.43760396e+03]\n",
      " [  1.01181981e+03]\n",
      " [  1.26335966e+03]\n",
      " [  1.12600929e+03]\n",
      " [  8.97631275e+02]\n",
      " [  8.20069758e+02]\n",
      " [  9.30782533e+02]\n",
      " [  1.23415473e+03]\n",
      " [  1.66859538e+03]\n",
      " [  2.23301263e+03]\n",
      " [  1.23580789e+03]\n",
      " [  2.21595344e+03]\n",
      " [  2.14911371e+03]\n",
      " [  1.58298278e+03]\n",
      " [  1.00863435e+03]\n",
      " [  6.20766719e+02]\n",
      " [  4.64057645e+02]\n",
      " [  4.92212999e+02]\n",
      " [  6.67976725e+02]\n",
      " [  9.56345425e+02]\n",
      " [  4.10168400e+02]\n",
      " [  2.30743343e+03]\n",
      " [  2.12635137e+03]\n",
      " [  1.42874661e+03]\n",
      " [  7.59544710e+02]\n",
      " [  3.01582323e+02]\n",
      " [  5.43173215e+01]\n",
      " [ -1.74244659e+00]\n",
      " [  9.97391685e+01]\n",
      " [  3.15869543e+02]\n",
      " [ -9.26180896e+01]\n",
      " [  2.37341272e+03]\n",
      " [  2.07624685e+03]\n",
      " [  1.26505087e+03]\n",
      " [  5.21753419e+02]\n",
      " [  6.43496823e+00]\n",
      " [ -2.71403222e+02]\n",
      " [ -3.68909972e+02]\n",
      " [ -3.27766186e+02]\n",
      " [ -1.78333793e+02]\n",
      " [ -4.55359241e+02]\n",
      " [  2.39303298e+03]\n",
      " [  1.97284730e+03]\n",
      " [  1.06678391e+03]\n",
      " [  2.73416482e+02]\n",
      " [ -2.71075750e+02]\n",
      " [ -5.83205598e+02]\n",
      " [ -7.23220609e+02]\n",
      " [ -7.01543842e+02]\n",
      " [ -5.98910909e+02]\n",
      " [ -7.35110831e+02]\n",
      " [  2.41245904e+03]\n",
      " [  1.84547128e+03]\n",
      " [  8.55937514e+02]\n",
      " [  2.50403844e+01]\n",
      " [ -5.45112346e+02]\n",
      " [ -8.74365271e+02]\n",
      " [ -1.03647163e+03]\n",
      " [ -1.04398961e+03]\n",
      " [ -9.58264527e+02]\n",
      " [ -9.64586676e+02]\n",
      " [  2.37679879e+03]\n",
      " [  1.71892061e+03]\n",
      " [  6.55749794e+02]\n",
      " [ -1.95472580e+02]\n",
      " [ -7.84290817e+02]\n",
      " [ -1.14312122e+03]\n",
      " [ -1.31018707e+03]\n",
      " [ -1.34488559e+03]\n",
      " [ -1.27610168e+03]\n",
      " [ -1.12461824e+03]\n",
      " [  2.34124187e+03]\n",
      " [  1.56952008e+03]\n",
      " [  4.70117388e+02]\n",
      " [ -4.24095574e+02]\n",
      " [ -1.02177475e+03]\n",
      " [ -1.38787350e+03]\n",
      " [ -1.56715239e+03]\n",
      " [ -1.60408023e+03]\n",
      " [ -1.55495738e+03]\n",
      " [ -1.25877552e+03]\n",
      " [  2.27879902e+03]\n",
      " [  1.42563469e+03]\n",
      " [  2.84233138e+02]\n",
      " [ -6.14297796e+02]\n",
      " [ -1.22489292e+03]\n",
      " [ -1.59420820e+03]\n",
      " [ -1.78764202e+03]\n",
      " [ -1.84166968e+03]\n",
      " [ -1.79135037e+03]]\n"
     ]
    }
   ],
   "source": [
    "J=15\n",
    "# Phi_mat\n",
    "Phi= Base([Kbeta,Kbeta])\n",
    "Phi_mat= Comp_Phi(Phi,T,J)\n",
    "\n",
    "print('Vrais initiale')\n",
    "print(L_YlX_pen_noC(Po,Z,L,T,Xdata,Y,Phi_mat,k,Psi,moy_est,I_pen,Lambda)[0])\n",
    "\n",
    "opts0={'disp': True, 'maxiter': 15}\n",
    "print('Résultat par BFGS')\n",
    "deb=time.clock()\n",
    "Res=sc.optimize.minimize(L_YlX_pen_noC,x0=Po, args= (Z,L,T,Xdata,Y,Phi_mat,k,Psi,moy_est,I_pen,Lambda) ,jac=True, method='BFGS',options=opts0)\n",
    "b_learned=Res.x[p:(p+D*Kbeta**2)]\n",
    "b_learned=(b_learned).reshape((D,Kbeta**2)).T\n",
    "print(str(time.clock()-deb)+\" secondes\")\n",
    "print(\"Current function value : \"+str(Res.fun))\n",
    "print(\"Jacobian : \"+str(Res.jac))\n",
    "print(\"Message : \"+str(Res.message))\n",
    "print(\"iterations : \"+str(+Res.nit))\n",
    "print('b_learned')\n",
    "print(b_learned)"
   ]
  },
  {
   "cell_type": "code",
   "execution_count": null,
   "metadata": {
    "collapsed": true
   },
   "outputs": [],
   "source": []
  }
 ],
 "metadata": {
  "anaconda-cloud": {},
  "kernelspec": {
   "display_name": "Python 2",
   "language": "python",
   "name": "python2"
  },
  "language_info": {
   "codemirror_mode": {
    "name": "ipython",
    "version": 2
   },
   "file_extension": ".py",
   "mimetype": "text/x-python",
   "name": "python",
   "nbconvert_exporter": "python",
   "pygments_lexer": "ipython2",
   "version": "2.7.12"
  }
 },
 "nbformat": 4,
 "nbformat_minor": 0
}
