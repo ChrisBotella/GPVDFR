{
 "cells": [
  {
   "cell_type": "code",
   "execution_count": 1,
   "metadata": {
    "collapsed": false
   },
   "outputs": [
    {
     "name": "stderr",
     "output_type": "stream",
     "text": [
      "Simu.py:46: SyntaxWarning: import * only allowed at module level\n",
      "  def X_obs(U,V1,V2,L):\n"
     ]
    },
    {
     "name": "stdout",
     "output_type": "stream",
     "text": [
      "Calcul d'une bonne Approximation (grille 100x100) \n",
      "2.05261509321e-06\n",
      "57.2935916946\n",
      "Méthode monte carlo\n",
      "moyenne de l'erreur sur les essais\n",
      "0.00117507374907\n",
      "0.000521898213021\n",
      "Pour un temps de calcul de 0.06s\n",
      "Approximation déterministe rapide\n",
      "58.314135498\n",
      "58.709951119\n",
      "erreur de l'approx déterministe à vitesse constante\n",
      "0.000184816870557\n"
     ]
    }
   ],
   "source": [
    "from Classes import * \n",
    "from Simu import *\n",
    "from NLL import *\n",
    "import numpy as np\n",
    "import matplotlib.pyplot as plt\n",
    "import scipy as sc\n",
    "from scipy import integrate\n",
    "import sympy as sy\n",
    "from scipy import linalg\n",
    "import pylab as pl\n",
    "import math as ma\n",
    "import time \n",
    "\n",
    "\n",
    "sig=3.\n",
    "el=0.3\n",
    "per=0.1\n",
    "\n",
    "def kfonc(s,t):\n",
    "    return Periodic(el,per,sig).val([s,t]);\n",
    "\n",
    "print time.clock()\n",
    "print \"scipy dblquad contrôlé\"\n",
    "def gfun(x): return 0;\n",
    "def hfun(x): return 1;\n",
    "print integrate.dblquad(kfonc, 0, 1, gfun, hfun, epsabs=5e-03)\n",
    "print time.clock()\n",
    "print \"scipy nquad contrôlé\"\n",
    "print integrate.nquad(kfonc,[[0,1],[0,1]],opts=[{'epsabs':5e-03},{'epsabs':5e-03}])\n",
    "print time.clock()\n",
    "\n",
    "print \"ma méthode récu\"\n",
    "print Integ( Periodic(el,per,sig),np.array([0,0]),np.array([1,1]),100 ).val()\n",
    "print time.clock()\n",
    "print \"ma méthode array\"\n",
    "print Integ_cub(Periodic(el,per,sig),np.array([0,0]),np.array([1,1]),100 ).val()[0]\n",
    "print time.clock()\n",
    "print \"ma méthode MC\"\n",
    "print Integ_MC( Periodic(el,per,sig),np.array([0,0]),np.array([1,1]),n=1000 ).val()\n",
    "print time.clock()\n",
    "\n",
    "print \"vraie val\"\n",
    "print integrate.dblquad(kfonc, 0, 1, gfun, hfun)\n",
    "print time.clock()\n",
    "\n",
    "\n"
   ]
  }
 ],
 "metadata": {
  "kernelspec": {
   "display_name": "Python 2",
   "language": "python",
   "name": "python2"
  },
  "language_info": {
   "codemirror_mode": {
    "name": "ipython",
    "version": 2
   },
   "file_extension": ".py",
   "mimetype": "text/x-python",
   "name": "python",
   "nbconvert_exporter": "python",
   "pygments_lexer": "ipython2",
   "version": "2.7.11"
  }
 },
 "nbformat": 4,
 "nbformat_minor": 0
}
