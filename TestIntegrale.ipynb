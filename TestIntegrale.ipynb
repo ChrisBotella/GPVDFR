{
 "cells": [
  {
   "cell_type": "code",
   "execution_count": 47,
   "metadata": {
    "collapsed": false,
    "scrolled": true
   },
   "outputs": [
    {
     "name": "stdout",
     "output_type": "stream",
     "text": [
      "[[ 1.  1.  0.  0.]\n",
      " [ 1.  1.  0.  0.]\n",
      " [ 0.  0.  1.  1.]\n",
      " [ 0.  0.  1.  1.]]\n"
     ]
    },
    {
     "data": {
      "text/plain": [
       "array([[ 3.,  3.,  0.,  0.],\n",
       "       [ 3.,  3.,  0.,  0.],\n",
       "       [ 0.,  0.,  3.,  3.],\n",
       "       [ 0.,  0.,  3.,  3.]])"
      ]
     },
     "execution_count": 47,
     "metadata": {},
     "output_type": "execute_result"
    }
   ],
   "source": [
    "import numpy as np\n",
    "from Classes import *\n",
    "import scipy as sc\n",
    "a=np.ones((2,2),float)\n",
    "b=sc.sparse.block_diag((a,a))\n",
    "print(b.toarray())\n",
    "ll=[b,b,b]\n",
    "sum(ll).toarray()"
   ]
  },
  {
   "cell_type": "code",
   "execution_count": 41,
   "metadata": {
    "collapsed": false
   },
   "outputs": [
    {
     "data": {
      "text/plain": [
       "tuple"
      ]
     },
     "execution_count": 41,
     "metadata": {},
     "output_type": "execute_result"
    }
   ],
   "source": [
    "a=1.\n",
    "type(a)\n",
    "b=(a,a)\n",
    "type(b)"
   ]
  },
  {
   "cell_type": "code",
   "execution_count": 42,
   "metadata": {
    "collapsed": false
   },
   "outputs": [
    {
     "name": "stdout",
     "output_type": "stream",
     "text": [
      "6345.42413463\n",
      "scipy dblquad contrôlé\n",
      "(4.075688215592129, 0.0003779785190177747)\n",
      "6345.9101143\n",
      "scipy nquad contrôlé\n",
      "(4.075688180580958, 0.004713710450750562)\n",
      "6346.08007916\n",
      "ma méthode récu\n"
     ]
    },
    {
     "name": "stderr",
     "output_type": "stream",
     "text": [
      "Classes.py:269: VisibleDeprecationWarning: using a non-integer number instead of an integer will result in an error in the future\n",
      "  Prod=Prod*(self.borne_sup[i]-self.borne_inf[i])\n",
      "Classes.py:276: VisibleDeprecationWarning: using a non-integer number instead of an integer will result in an error in the future\n",
      "  x[:,dim]= vec[dim]+np.arange(J+1)*1.*(self.borne_sup[dim]-vec[dim])/J\n"
     ]
    },
    {
     "name": "stdout",
     "output_type": "stream",
     "text": [
      "4.07236777288\n",
      "6346.41995963\n",
      "ma méthode array\n"
     ]
    },
    {
     "name": "stderr",
     "output_type": "stream",
     "text": [
      "Classes.py:322: VisibleDeprecationWarning: using a non-integer number instead of an integer will result in an error in the future\n",
      "  mini_Tab[:,i]= self.borne_inf[dim] + np.arange(J+1)*1.*(self.borne_sup[dim]-self.borne_inf[dim])/J\n",
      "Classes.py:345: VisibleDeprecationWarning: using a non-integer number instead of an integer will result in an error in the future\n",
      "  Prod=Prod*(self.borne_sup[i]-self.borne_inf[i])\n",
      "Classes.py:370: VisibleDeprecationWarning: using a non-integer number instead of an integer will result in an error in the future\n",
      "  Vol=Vol*(self.borne_sup[i]-self.borne_inf[i])\n"
     ]
    },
    {
     "name": "stdout",
     "output_type": "stream",
     "text": [
      "4.07236777288\n",
      "6346.70969697\n",
      "ma méthode MC\n",
      "[ 4.16823668]\n",
      "6346.74987592\n",
      "vraie val\n",
      "(4.072661198896048, 2.382339793801167e-08)\n",
      "6355.98919262\n"
     ]
    }
   ],
   "source": [
    "from Classes import * \n",
    "from Simu import *\n",
    "from NLL import *\n",
    "import numpy as np\n",
    "import matplotlib.pyplot as plt\n",
    "import scipy as sc\n",
    "from scipy import integrate\n",
    "import sympy as sy\n",
    "from scipy import linalg\n",
    "import pylab as pl\n",
    "import math as ma\n",
    "import time \n",
    "\n",
    "\n",
    "sig=3.\n",
    "el=0.3\n",
    "per=0.1\n",
    "\n",
    "def kfonc(s,t):\n",
    "    return Periodic(el,per,sig).val([s,t]);\n",
    "\n",
    "print time.clock()\n",
    "print \"scipy dblquad contrôlé\"\n",
    "def gfun(x): return 0;\n",
    "def hfun(x): return 1;\n",
    "print integrate.dblquad(kfonc, 0, 1, gfun, hfun, epsabs=5e-03)\n",
    "print time.clock()\n",
    "print \"scipy nquad contrôlé\"\n",
    "print integrate.nquad(kfonc,[[0,1],[0,1]],opts=[{'epsabs':5e-03},{'epsabs':5e-03}])\n",
    "print time.clock()\n",
    "\n",
    "print \"ma méthode récu\"\n",
    "print Integ( Periodic(el,per,sig),np.array([0,0]),np.array([1,1]),100 ).val()\n",
    "print time.clock()\n",
    "print \"ma méthode array\"\n",
    "print Integ_cub(Periodic(el,per,sig),np.array([0,0]),np.array([1,1]),100 ).val()[0]\n",
    "print time.clock()\n",
    "print \"ma méthode MC\"\n",
    "print Integ_MC( Periodic(el,per,sig),np.array([0,0]),np.array([1,1]),n=1000 ).val()\n",
    "print time.clock()\n",
    "\n",
    "print \"vraie val\"\n",
    "print integrate.dblquad(kfonc, 0, 1, gfun, hfun)\n",
    "print time.clock()\n",
    "\n",
    "\n"
   ]
  },
  {
   "cell_type": "markdown",
   "metadata": {},
   "source": [
    "# Accélération de l'intégration par l'utilisation de fonction vectorielle numpy plutôt que de classes python\n",
    "Commençons par noter qu'il est possible de donner à la fonction np.apply_along_axis une fonction qui prend plusieurs arguments. Il suffit pour cela de fournir les arrays de chaque argument à la file.   "
   ]
  },
  {
   "cell_type": "code",
   "execution_count": null,
   "metadata": {
    "collapsed": true
   },
   "outputs": [],
   "source": [
    "def car(a,b):\n",
    "    return a+b;\n",
    "\n",
    "li=[1,2,3]\n",
    "li2=li\n",
    "print(np.apply_along_axis(car,0,li,li2 ))\n"
   ]
  },
  {
   "cell_type": "markdown",
   "metadata": {},
   "source": [
    "Si le nombre d'arguments n'est pas connu à l'avance on peut avoir recours à une asture : la commande * permet de transformer une liste (iterable) de variables en une suite de variables similaire au format de l'exemple ci-dessus, mais avec un nombre indéterminé de variables.   "
   ]
  },
  {
   "cell_type": "code",
   "execution_count": null,
   "metadata": {
    "collapsed": true
   },
   "outputs": [],
   "source": [
    "a=[[0,1,2,3],[0,1,2,3]]\n",
    "print(\"res\")\n",
    "print(np.apply_along_axis(car,0,*a ))\n"
   ]
  },
  {
   "cell_type": "markdown",
   "metadata": {},
   "source": [
    "On peut alor simplement définir une expression Sympy, la convertir en fonction vectorielle numpy et approximer l'intégrale avec la classe Integ_fo qui intègre ce changement par rapport à la version Integ. "
   ]
  },
  {
   "cell_type": "code",
   "execution_count": 1,
   "metadata": {
    "collapsed": false
   },
   "outputs": [
    {
     "ename": "NameError",
     "evalue": "name 'sy' is not defined",
     "output_type": "error",
     "traceback": [
      "\u001b[1;31m---------------------------------------------------------------------------\u001b[0m",
      "\u001b[1;31mNameError\u001b[0m                                 Traceback (most recent call last)",
      "\u001b[1;32m<ipython-input-1-3aaa36386bac>\u001b[0m in \u001b[0;36m<module>\u001b[1;34m()\u001b[0m\n\u001b[1;32m----> 1\u001b[1;33m \u001b[0mt\u001b[0m\u001b[1;33m=\u001b[0m\u001b[0msy\u001b[0m\u001b[1;33m.\u001b[0m\u001b[0mSymbol\u001b[0m\u001b[1;33m(\u001b[0m\u001b[1;34m't'\u001b[0m\u001b[1;33m)\u001b[0m\u001b[1;33m\u001b[0m\u001b[0m\n\u001b[0m\u001b[0;32m      2\u001b[0m \u001b[0ms\u001b[0m\u001b[1;33m=\u001b[0m\u001b[0msy\u001b[0m\u001b[1;33m.\u001b[0m\u001b[0mSymbol\u001b[0m\u001b[1;33m(\u001b[0m\u001b[1;34m's'\u001b[0m\u001b[1;33m)\u001b[0m\u001b[1;33m\u001b[0m\u001b[0m\n\u001b[0;32m      3\u001b[0m \u001b[0mlin\u001b[0m\u001b[1;33m=\u001b[0m\u001b[0mt\u001b[0m\u001b[1;33m+\u001b[0m\u001b[0ms\u001b[0m\u001b[1;33m\u001b[0m\u001b[0m\n\u001b[0;32m      4\u001b[0m \u001b[0mfonction\u001b[0m\u001b[1;33m=\u001b[0m\u001b[0msy\u001b[0m\u001b[1;33m.\u001b[0m\u001b[0mlambdify\u001b[0m\u001b[1;33m(\u001b[0m\u001b[1;33m(\u001b[0m\u001b[0mt\u001b[0m\u001b[1;33m,\u001b[0m\u001b[0ms\u001b[0m\u001b[1;33m)\u001b[0m\u001b[1;33m,\u001b[0m\u001b[0mlin\u001b[0m\u001b[1;33m,\u001b[0m\u001b[1;34m\"numpy\"\u001b[0m\u001b[1;33m)\u001b[0m\u001b[1;33m\u001b[0m\u001b[0m\n\u001b[0;32m      5\u001b[0m \u001b[1;32mprint\u001b[0m\u001b[1;33m(\u001b[0m\u001b[0mInteg_fo\u001b[0m\u001b[1;33m(\u001b[0m\u001b[0mfonction\u001b[0m\u001b[1;33m,\u001b[0m\u001b[0mnp\u001b[0m\u001b[1;33m.\u001b[0m\u001b[0marray\u001b[0m\u001b[1;33m(\u001b[0m\u001b[1;33m[\u001b[0m\u001b[1;36m0\u001b[0m\u001b[1;33m,\u001b[0m\u001b[1;36m0\u001b[0m\u001b[1;33m]\u001b[0m\u001b[1;33m)\u001b[0m\u001b[1;33m,\u001b[0m\u001b[0mnp\u001b[0m\u001b[1;33m.\u001b[0m\u001b[0marray\u001b[0m\u001b[1;33m(\u001b[0m\u001b[1;33m[\u001b[0m\u001b[1;36m1\u001b[0m\u001b[1;33m,\u001b[0m\u001b[1;36m1\u001b[0m\u001b[1;33m]\u001b[0m\u001b[1;33m)\u001b[0m\u001b[1;33m,\u001b[0m\u001b[1;36m50\u001b[0m\u001b[1;33m)\u001b[0m\u001b[1;33m.\u001b[0m\u001b[0mval\u001b[0m\u001b[1;33m(\u001b[0m\u001b[1;33m)\u001b[0m\u001b[1;33m)\u001b[0m\u001b[1;33m\u001b[0m\u001b[0m\n",
      "\u001b[1;31mNameError\u001b[0m: name 'sy' is not defined"
     ]
    }
   ],
   "source": [
    "t=sy.Symbol('t')\n",
    "s=sy.Symbol('s')\n",
    "lin=t+s\n",
    "fonction=sy.lambdify((t,s),lin,\"numpy\")\n",
    "print(Integ_fo(fonction,np.array([0,0]),np.array([1,1]),50).val())"
   ]
  },
  {
   "cell_type": "markdown",
   "metadata": {},
   "source": [
    "Cela rend le calcul beaucoup plus rapide car la fonction que nous avons définie est correctement vectorisée par numpy."
   ]
  },
  {
   "cell_type": "code",
   "execution_count": null,
   "metadata": {
    "collapsed": true
   },
   "outputs": [],
   "source": [
    "t=sy.Symbol('t')\n",
    "s=sy.Symbol('s')\n",
    "lin=sy.exp(-(t-s)**2/2)\n",
    "f_lin=sy.lambdify((t,s),lin,\"numpy\")\n",
    "print(time.clock())\n",
    "print(Integ_fo(f_lin,np.array([0,0]),np.array([1,1]),500).val())\n",
    "print(time.clock())\n",
    "ktest=RBF(1.,1.)\n",
    "print(Integ(ktest,np.array([0,0]),np.array([1,1]),500).val())\n",
    "print(time.clock())"
   ]
  }
 ],
 "metadata": {
  "anaconda-cloud": {},
  "kernelspec": {
   "display_name": "Python [Root]",
   "language": "python",
   "name": "Python [Root]"
  },
  "language_info": {
   "codemirror_mode": {
    "name": "ipython",
    "version": 2
   },
   "file_extension": ".py",
   "mimetype": "text/x-python",
   "name": "python",
   "nbconvert_exporter": "python",
   "pygments_lexer": "ipython2",
   "version": "2.7.12"
  }
 },
 "nbformat": 4,
 "nbformat_minor": 0
}
